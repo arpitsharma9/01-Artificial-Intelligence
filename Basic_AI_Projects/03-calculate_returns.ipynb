{
    "nbformat_minor": 2, 
    "cells": [
        {
            "source": "# Calculate Returns\n\n![returns_chart.png](returns_chart_720_358.png)\n\nUsing the formula $ \\frac{p_{t} - p_{t-1}}{p_{t-1}} $, let's apply it to some example prices. For this exercise, we'll calculate the returns for each day using the closing price data in `close`.", 
            "cell_type": "markdown", 
            "metadata": {}
        }, 
        {
            "execution_count": 1, 
            "cell_type": "code", 
            "metadata": {}, 
            "outputs": [
                {
                    "output_type": "stream", 
                    "name": "stdout", 
                    "text": "Overwriting quiz_tests.py\n"
                }
            ], 
            "source": "%%writefile quiz_tests.py\n\nfrom collections import OrderedDict\nimport numpy as np\nimport pandas as pd\nfrom tests import project_test, generate_random_tickers, generate_random_dates, assert_output\n\n\n@project_test\ndef test_calculate_returns(fn):\n    tickers = generate_random_tickers(5)\n    dates = generate_random_dates(6)\n\n    fn_inputs = {\n        'close': pd.DataFrame(\n            [\n                [21.050810483942833, 17.013843810658827, 10.984503755486879, 11.248093428369392, 12.961712733997235],\n                [15.63570258751384, 14.69054309070934, 11.353027688995159, 475.74195118202061, 11.959640427803022],\n                [482.34539247360806, 35.202580592515041, 3516.5416782257166, 66.405314327318209, 13.503960481087077],\n                [10.918933017418304, 17.9086438675435, 24.801265417692324, 12.488954191854916, 10.52435923388642],\n                [10.675971965144655, 12.749401436636365, 11.805257579935713, 21.539039489843024, 19.99766036804861],\n                [11.545495378369814, 23.981468434099405, 24.974763062186504, 36.031962102997689, 14.304332320024963]],\n            dates, tickers)}\n    fn_correct_outputs = OrderedDict([\n        (\n            'returns',\n            pd.DataFrame(\n                [\n                    [np.nan, np.nan, np.nan, np.nan, np.nan],\n                    [-0.25723988, -0.13655355, 0.03354944, 41.29534136, -0.07731018],\n                    [29.84897463, 1.39627496, 308.74483411, -0.86041737, 0.12912763],\n                    [-0.97736283, -0.49126900, -0.99294726, -0.81192839, -0.22064647],\n                    [-0.02225135, -0.28808672, -0.52400584, 0.72464717, 0.90013092],\n                    [0.08144677, 0.88098779, 1.11556274, 0.67286764, -0.28469971]],\n                dates, tickers))])\n\n    assert_output(fn, fn_inputs, fn_correct_outputs)"
        }, 
        {
            "execution_count": 2, 
            "cell_type": "code", 
            "metadata": {
                "scrolled": true
            }, 
            "outputs": [
                {
                    "execution_count": 2, 
                    "metadata": {}, 
                    "data": {
                        "text/html": "<div>\n<style scoped>\n    .dataframe tbody tr th:only-of-type {\n        vertical-align: middle;\n    }\n\n    .dataframe tbody tr th {\n        vertical-align: top;\n    }\n\n    .dataframe thead th {\n        text-align: right;\n    }\n</style>\n<table border=\"1\" class=\"dataframe\">\n  <thead>\n    <tr style=\"text-align: right;\">\n      <th></th>\n      <th>ABC</th>\n      <th>EFG</th>\n      <th>XYZ</th>\n    </tr>\n  </thead>\n  <tbody>\n    <tr>\n      <th>2018-10-01</th>\n      <td>1</td>\n      <td>12</td>\n      <td>35</td>\n    </tr>\n    <tr>\n      <th>2018-10-02</th>\n      <td>5</td>\n      <td>51</td>\n      <td>36</td>\n    </tr>\n    <tr>\n      <th>2018-10-03</th>\n      <td>3</td>\n      <td>43</td>\n      <td>36</td>\n    </tr>\n    <tr>\n      <th>2018-10-04</th>\n      <td>6</td>\n      <td>56</td>\n      <td>36</td>\n    </tr>\n    <tr>\n      <th>2018-10-05</th>\n      <td>2</td>\n      <td>22</td>\n      <td>37</td>\n    </tr>\n  </tbody>\n</table>\n</div>", 
                        "text/plain": "            ABC  EFG  XYZ\n2018-10-01    1   12   35\n2018-10-02    5   51   36\n2018-10-03    3   43   36\n2018-10-04    6   56   36\n2018-10-05    2   22   37"
                    }, 
                    "output_type": "execute_result"
                }
            ], 
            "source": "import pandas as pd\n\nclose = pd.DataFrame(\n    {\n        'ABC': [1, 5, 3, 6, 2],\n        'EFG': [12, 51, 43, 56, 22],\n        'XYZ': [35, 36, 36, 36, 37],},\n    pd.date_range('10/01/2018', periods=5, freq='D'))\nclose"
        }, 
        {
            "source": "Using the returns formula on the closing prices for the ticker \"ABC\" should give us `[(5-1)/1, (3-5)/5, (6-3)/3, (2-6)/6]` or `[4, -0.4, 1, -0.66]`. To calculate this for the whole DataFrame, we'll use the [DataFrame.shift](https://pandas.pydata.org/pandas-docs/version/0.21/generated/pandas.DataFrame.shift.html) function.\n\nThis function allows us to shift the rows of data. For example, the following shifts the rows in `close` two days back.", 
            "cell_type": "markdown", 
            "metadata": {}
        }, 
        {
            "execution_count": 3, 
            "cell_type": "code", 
            "metadata": {}, 
            "outputs": [
                {
                    "execution_count": 3, 
                    "metadata": {}, 
                    "data": {
                        "text/html": "<div>\n<style scoped>\n    .dataframe tbody tr th:only-of-type {\n        vertical-align: middle;\n    }\n\n    .dataframe tbody tr th {\n        vertical-align: top;\n    }\n\n    .dataframe thead th {\n        text-align: right;\n    }\n</style>\n<table border=\"1\" class=\"dataframe\">\n  <thead>\n    <tr style=\"text-align: right;\">\n      <th></th>\n      <th>ABC</th>\n      <th>EFG</th>\n      <th>XYZ</th>\n    </tr>\n  </thead>\n  <tbody>\n    <tr>\n      <th>2018-10-01</th>\n      <td>NaN</td>\n      <td>NaN</td>\n      <td>NaN</td>\n    </tr>\n    <tr>\n      <th>2018-10-02</th>\n      <td>NaN</td>\n      <td>NaN</td>\n      <td>NaN</td>\n    </tr>\n    <tr>\n      <th>2018-10-03</th>\n      <td>1.0</td>\n      <td>12.0</td>\n      <td>35.0</td>\n    </tr>\n    <tr>\n      <th>2018-10-04</th>\n      <td>5.0</td>\n      <td>51.0</td>\n      <td>36.0</td>\n    </tr>\n    <tr>\n      <th>2018-10-05</th>\n      <td>3.0</td>\n      <td>43.0</td>\n      <td>36.0</td>\n    </tr>\n  </tbody>\n</table>\n</div>", 
                        "text/plain": "            ABC   EFG   XYZ\n2018-10-01  NaN   NaN   NaN\n2018-10-02  NaN   NaN   NaN\n2018-10-03  1.0  12.0  35.0\n2018-10-04  5.0  51.0  36.0\n2018-10-05  3.0  43.0  36.0"
                    }, 
                    "output_type": "execute_result"
                }
            ], 
            "source": "close.shift(2)"
        }, 
        {
            "source": "The data for the row \"2018-10-03\" contains data that is two days in the past. You'll also notice the \"NaN\" values for \"2018-10-01\" and \"2018-10-02\". Since there's not data two days in the past for these dates, it returns a \"NaN\" value.\n\nUse this function, you can also shift in the future using a negative number. Let's shift one day in the future.", 
            "cell_type": "markdown", 
            "metadata": {}
        }, 
        {
            "execution_count": 4, 
            "cell_type": "code", 
            "metadata": {}, 
            "outputs": [
                {
                    "execution_count": 4, 
                    "metadata": {}, 
                    "data": {
                        "text/html": "<div>\n<style scoped>\n    .dataframe tbody tr th:only-of-type {\n        vertical-align: middle;\n    }\n\n    .dataframe tbody tr th {\n        vertical-align: top;\n    }\n\n    .dataframe thead th {\n        text-align: right;\n    }\n</style>\n<table border=\"1\" class=\"dataframe\">\n  <thead>\n    <tr style=\"text-align: right;\">\n      <th></th>\n      <th>ABC</th>\n      <th>EFG</th>\n      <th>XYZ</th>\n    </tr>\n  </thead>\n  <tbody>\n    <tr>\n      <th>2018-10-01</th>\n      <td>5.0</td>\n      <td>51.0</td>\n      <td>36.0</td>\n    </tr>\n    <tr>\n      <th>2018-10-02</th>\n      <td>3.0</td>\n      <td>43.0</td>\n      <td>36.0</td>\n    </tr>\n    <tr>\n      <th>2018-10-03</th>\n      <td>6.0</td>\n      <td>56.0</td>\n      <td>36.0</td>\n    </tr>\n    <tr>\n      <th>2018-10-04</th>\n      <td>2.0</td>\n      <td>22.0</td>\n      <td>37.0</td>\n    </tr>\n    <tr>\n      <th>2018-10-05</th>\n      <td>NaN</td>\n      <td>NaN</td>\n      <td>NaN</td>\n    </tr>\n  </tbody>\n</table>\n</div>", 
                        "text/plain": "            ABC   EFG   XYZ\n2018-10-01  5.0  51.0  36.0\n2018-10-02  3.0  43.0  36.0\n2018-10-03  6.0  56.0  36.0\n2018-10-04  2.0  22.0  37.0\n2018-10-05  NaN   NaN   NaN"
                    }, 
                    "output_type": "execute_result"
                }
            ], 
            "source": "close.shift(-1)"
        }, 
        {
            "source": "## Quiz\nUsing what you know about the [DataFrame.shift](https://pandas.pydata.org/pandas-docs/version/0.21/generated/pandas.DataFrame.shift.html) function, implement the function.\n\nOnce you successfully implemented the quiz, you can can continue to the next concept in the classroom.", 
            "cell_type": "markdown", 
            "metadata": {}
        }, 
        {
            "execution_count": 5, 
            "cell_type": "code", 
            "metadata": {}, 
            "outputs": [
                {
                    "ename": "ImportError", 
                    "evalue": "cannot import name 'project_test'", 
                    "traceback": [
                        "\u001b[0;31m---------------------------------------------------------------------------\u001b[0m", 
                        "\u001b[0;31mImportError\u001b[0m                               Traceback (most recent call last)", 
                        "\u001b[0;32m<ipython-input-5-876acc70d8f6>\u001b[0m in \u001b[0;36m<module>\u001b[0;34m()\u001b[0m\n\u001b[0;32m----> 1\u001b[0;31m \u001b[0;32mimport\u001b[0m \u001b[0mquiz_tests\u001b[0m\u001b[0;34m\u001b[0m\u001b[0m\n\u001b[0m\u001b[1;32m      2\u001b[0m \u001b[0;34m\u001b[0m\u001b[0m\n\u001b[1;32m      3\u001b[0m \u001b[0;34m\u001b[0m\u001b[0m\n\u001b[1;32m      4\u001b[0m \u001b[0;32mdef\u001b[0m \u001b[0mcalculate_returns\u001b[0m\u001b[0;34m(\u001b[0m\u001b[0mclose\u001b[0m\u001b[0;34m)\u001b[0m\u001b[0;34m:\u001b[0m\u001b[0;34m\u001b[0m\u001b[0m\n\u001b[1;32m      5\u001b[0m     \"\"\"\n", 
                        "\u001b[0;32m~/work/quiz_tests.py\u001b[0m in \u001b[0;36m<module>\u001b[0;34m()\u001b[0m\n\u001b[1;32m      3\u001b[0m \u001b[0;32mimport\u001b[0m \u001b[0mnumpy\u001b[0m \u001b[0;32mas\u001b[0m \u001b[0mnp\u001b[0m\u001b[0;34m\u001b[0m\u001b[0m\n\u001b[1;32m      4\u001b[0m \u001b[0;32mimport\u001b[0m \u001b[0mpandas\u001b[0m \u001b[0;32mas\u001b[0m \u001b[0mpd\u001b[0m\u001b[0;34m\u001b[0m\u001b[0m\n\u001b[0;32m----> 5\u001b[0;31m \u001b[0;32mfrom\u001b[0m \u001b[0mtests\u001b[0m \u001b[0;32mimport\u001b[0m \u001b[0mproject_test\u001b[0m\u001b[0;34m,\u001b[0m \u001b[0mgenerate_random_tickers\u001b[0m\u001b[0;34m,\u001b[0m \u001b[0mgenerate_random_dates\u001b[0m\u001b[0;34m,\u001b[0m \u001b[0massert_output\u001b[0m\u001b[0;34m\u001b[0m\u001b[0m\n\u001b[0m\u001b[1;32m      6\u001b[0m \u001b[0;34m\u001b[0m\u001b[0m\n\u001b[1;32m      7\u001b[0m \u001b[0;34m\u001b[0m\u001b[0m\n", 
                        "\u001b[0;31mImportError\u001b[0m: cannot import name 'project_test'"
                    ], 
                    "output_type": "error"
                }
            ], 
            "source": "import quiz_tests\n\n\ndef calculate_returns(close):\n    \"\"\"\n    Compute returns for each ticker and date in close.\n    \n    Parameters\n    ----------\n    close : DataFrame\n        Close prices for each ticker and date\n    \n    Returns\n    -------\n    returns : DataFrame\n        Returns for each ticker and date\n    \"\"\"\n    # TODO: Implement Function\n    \n    return (close - close.shift(1))/close.shift(1)\n\n\n\n\nquiz_tests.test_calculate_returns(calculate_returns)"
        }, 
        {
            "execution_count": null, 
            "cell_type": "code", 
            "metadata": {}, 
            "outputs": [], 
            "source": "calculate_returns(close)"
        }, 
        {
            "source": "## Quiz Solution\nIf you're having trouble, you can check out the quiz solution [here](calculate_returns_solution.ipynb).", 
            "cell_type": "markdown", 
            "metadata": {}
        }
    ], 
    "metadata": {
        "kernelspec": {
            "display_name": "Python 3.5", 
            "name": "python3", 
            "language": "python"
        }, 
        "language_info": {
            "mimetype": "text/x-python", 
            "nbconvert_exporter": "python", 
            "version": "3.5.5", 
            "name": "python", 
            "file_extension": ".py", 
            "pygments_lexer": "ipython3", 
            "codemirror_mode": {
                "version": 3, 
                "name": "ipython"
            }
        }
    }, 
    "nbformat": 4
}