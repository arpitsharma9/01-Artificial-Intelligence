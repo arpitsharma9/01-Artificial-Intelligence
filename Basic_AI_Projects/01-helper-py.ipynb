{
    "nbformat_minor": 1, 
    "cells": [
        {
            "execution_count": 22, 
            "cell_type": "code", 
            "metadata": {}, 
            "outputs": [
                {
                    "output_type": "stream", 
                    "name": "stdout", 
                    "text": "Overwriting tests1.py\n"
                }
            ], 
            "source": "%%writefile tests1.py\n\nimport collections\nfrom collections import OrderedDict\nimport copy\nimport pandas as pd\nimport numpy as np\nfrom datetime import date, timedelta\n\n\npd.options.display.float_format = '{:.8f}'.format\n\n\ndef _generate_output_error_msg(fn_name, fn_inputs, fn_outputs, fn_expected_outputs):\n    formatted_inputs = []\n    formatted_outputs = []\n    formatted_expected_outputs = []\n\n    for input_name, input_value in fn_inputs.items():\n        formatted_outputs.append('INPUT {}:\\n{}\\n'.format(\n            input_name, str(input_value)))\n    for output_name, output_value in fn_outputs.items():\n        formatted_outputs.append('OUTPUT {}:\\n{}\\n'.format(\n            output_name, str(output_value)))\n    for expected_output_name, expected_output_value in fn_expected_outputs.items():\n        formatted_expected_outputs.append('EXPECTED OUTPUT FOR {}:\\n{}\\n'.format(\n            expected_output_name, str(expected_output_value)))\n\n    return 'Wrong value for {}.\\n' \\\n           '{}\\n' \\\n           '{}\\n' \\\n           '{}' \\\n        .format(\n            fn_name,\n            '\\n'.join(formatted_inputs),\n            '\\n'.join(formatted_outputs),\n            '\\n'.join(formatted_expected_outputs))\n\n\ndef _is_equal(x, y):\n    is_equal = False\n\n    if isinstance(x, pd.DataFrame) or isinstance(y, pd.Series):\n        is_equal = x.equals(y)\n    elif isinstance(x, np.ndarray):\n        is_equal = np.array_equal(x, y)\n    elif isinstance(x, list):\n        if len(x) == len(y):\n            for x_item, y_item in zip(x, y):\n                if not _is_equal(x_item, y_item):\n                    break\n            else:\n                is_equal = True\n    else:\n        is_equal = x == y\n\n    return is_equal\n\n\ndef project_test(func):\n    def func_wrapper(*args):\n        result = func(*args)\n        print('Tests Passed')\n        return result\n\n    return func_wrapper\n\n\ndef generate_random_tickers(n_tickers=None):\n    min_ticker_len = 3\n    max_ticker_len = 5\n    tickers = []\n\n    if not n_tickers:\n        n_tickers = np.random.randint(8, 14)\n\n    ticker_symbol_random = np.random.randint(ord('A'), ord('Z')+1, (n_tickers, max_ticker_len))\n    ticker_symbol_lengths = np.random.randint(min_ticker_len, max_ticker_len, n_tickers)\n    for ticker_symbol_rand, ticker_symbol_length in zip(ticker_symbol_random, ticker_symbol_lengths):\n        ticker_symbol = ''.join([chr(c_id) for c_id in ticker_symbol_rand[:ticker_symbol_length]])\n        tickers.append(ticker_symbol)\n\n    return tickers\n\n\ndef generate_random_dates(n_days=None):\n    if not n_days:\n        n_days = np.random.randint(14, 20)\n\n    start_year = np.random.randint(1999, 2017)\n    start_month = np.random.randint(1, 12)\n    start_day = np.random.randint(1, 29)\n    start_date = date(start_year, start_month, start_day)\n\n    dates = []\n    for i in range(n_days):\n        dates.append(start_date + timedelta(days=i))\n\n    return dates\n\n\ndef assert_output(fn, fn_inputs, fn_expected_outputs):\n    assert type(fn_expected_outputs) == OrderedDict\n\n    fn_outputs = OrderedDict()\n    fn_inputs_passed_in = copy.deepcopy(fn_inputs)\n    fn_raw_out = fn(**fn_inputs_passed_in)\n\n    # Check if inputs have changed\n    for input_name, input_value in fn_inputs.items():\n        passed_in_unchanged = _is_equal(input_value, fn_inputs_passed_in[input_name])\n\n        assert passed_in_unchanged, 'Input parameter \"{}\" has been modified inside the function. ' \\\n                                    'The function shouldn\\'t modify the function parameters.'.format(input_name)\n\n    if len(fn_expected_outputs) == 1:\n        fn_outputs[list(fn_expected_outputs)[0]] = fn_raw_out\n    elif len(fn_expected_outputs) > 1:\n        assert type(fn_raw_out) == tuple,\\\n            'Expecting function to return tuple, got type {}'.format(type(fn_raw_out))\n        assert len(fn_raw_out) == len(fn_expected_outputs),\\\n            'Expected {} outputs in tuple, only found {} outputs'.format(len(fn_expected_outputs), len(fn_raw_out))\n        for key_i, output_key in enumerate(fn_expected_outputs.keys()):\n            fn_outputs[output_key] = fn_raw_out[key_i]\n\n    err_message = _generate_output_error_msg(\n        fn.__name__,\n        fn_inputs,\n        fn_outputs,\n        fn_expected_outputs)\n\n    for fn_out, (out_name, expected_out) in zip(fn_outputs.values(), fn_expected_outputs.items()):\n        assert isinstance(fn_out, type(expected_out)),\\\n            'Wrong type for output {}. Got {}, expected {}'.format(out_name, type(fn_out), type(expected_out))\n\n        if hasattr(expected_out, 'shape'):\n            assert fn_out.shape == expected_out.shape, \\\n                'Wrong shape for output {}. Got {}, expected {}'.format(out_name, fn_out.shape, expected_out.shape)\n        elif hasattr(expected_out, '__len__'):\n            assert len(fn_out) == len(expected_out), \\\n                'Wrong len for output {}. Got {}, expected {}'.format(out_name, len(fn_out), len(expected_out))\n\n        if type(expected_out) == pd.DataFrame:\n            assert set(fn_out.columns) == set(expected_out.columns), \\\n                'Incorrect columns for output {}\\n' \\\n                'COLUMNS:          {}\\n' \\\n                'EXPECTED COLUMNS: {}'.format(out_name, sorted(fn_out.columns), sorted(expected_out.columns))\n\n            for column in expected_out.columns:\n                assert fn_out[column].dtype == expected_out[column].dtype, \\\n                    'Incorrect type for output {}, column {}\\n' \\\n                    'Type:          {}\\n' \\\n                    'EXPECTED Type: {}'.format(out_name, column, fn_out[column].dtype, expected_out[column].dtype)\n\n            # Sort Columns\n            fn_out = fn_out.sort_index(1)\n            expected_out = expected_out.sort_index(1)\n\n        if type(expected_out) in {pd.DataFrame, pd.Series}:\n            assert set(fn_out.index) == set(expected_out.index), \\\n                'Incorrect indices for output {}\\n' \\\n                'INDICES:          {}\\n' \\\n                'EXPECTED INDICES: {}'.format(out_name, sorted(fn_out.index), sorted(expected_out.index))\n\n            # Sort Indices\n            fn_out = fn_out.sort_index()\n            expected_out = expected_out.sort_index()\n\n        try:\n            out_is_close = np.isclose(fn_out, expected_out, equal_nan=True)\n        except TypeError:\n            out_is_close = fn_out == expected_out\n        else:\n            if isinstance(expected_out, collections.Iterable):\n                out_is_close = out_is_close.all()\n\n        assert out_is_close, err_message\n\n\n"
        }, 
        {
            "execution_count": 23, 
            "cell_type": "code", 
            "metadata": {}, 
            "outputs": [
                {
                    "execution_count": 23, 
                    "metadata": {}, 
                    "data": {
                        "text/html": "<div>\n<style scoped>\n    .dataframe tbody tr th:only-of-type {\n        vertical-align: middle;\n    }\n\n    .dataframe tbody tr th {\n        vertical-align: top;\n    }\n\n    .dataframe thead th {\n        text-align: right;\n    }\n</style>\n<table border=\"1\" class=\"dataframe\">\n  <thead>\n    <tr style=\"text-align: right;\">\n      <th></th>\n      <th>A</th>\n      <th>2017-09-22</th>\n      <th>152.46</th>\n      <th>152.72</th>\n      <th>150.31</th>\n      <th>152.48</th>\n      <th>45904657.0</th>\n      <th>151.78</th>\n      <th>46179797.0</th>\n    </tr>\n  </thead>\n  <tbody>\n    <tr>\n      <th>0</th>\n      <td>A</td>\n      <td>2017-09-25</td>\n      <td>149.54000000</td>\n      <td>151.93000000</td>\n      <td>148.46000000</td>\n      <td>151.11000000</td>\n      <td>43886111.00000000</td>\n      <td>151.11000000</td>\n      <td>43724099.00000000</td>\n    </tr>\n    <tr>\n      <th>1</th>\n      <td>A</td>\n      <td>2017-09-26</td>\n      <td>152.33000000</td>\n      <td>154.31000000</td>\n      <td>152.41000000</td>\n      <td>152.42000000</td>\n      <td>35431266.00000000</td>\n      <td>153.10000000</td>\n      <td>35345230.00000000</td>\n    </tr>\n    <tr>\n      <th>2</th>\n      <td>A</td>\n      <td>2017-09-27</td>\n      <td>153.43000000</td>\n      <td>155.36000000</td>\n      <td>152.86000000</td>\n      <td>154.34000000</td>\n      <td>25027198.00000000</td>\n      <td>154.31000000</td>\n      <td>24880751.00000000</td>\n    </tr>\n    <tr>\n      <th>3</th>\n      <td>A</td>\n      <td>2017-09-28</td>\n      <td>153.46000000</td>\n      <td>154.90000000</td>\n      <td>152.34000000</td>\n      <td>153.68000000</td>\n      <td>21928819.00000000</td>\n      <td>153.34000000</td>\n      <td>21995499.00000000</td>\n    </tr>\n    <tr>\n      <th>4</th>\n      <td>B</td>\n      <td>2017-09-22</td>\n      <td>148.86000000</td>\n      <td>150.15000000</td>\n      <td>147.58000000</td>\n      <td>149.19000000</td>\n      <td>2900356.00000000</td>\n      <td>148.82000000</td>\n      <td>2923116.00000000</td>\n    </tr>\n  </tbody>\n</table>\n</div>", 
                        "text/plain": "   A  2017-09-22       152.46       152.72       150.31       152.48  \\\n0  A  2017-09-25 149.54000000 151.93000000 148.46000000 151.11000000   \n1  A  2017-09-26 152.33000000 154.31000000 152.41000000 152.42000000   \n2  A  2017-09-27 153.43000000 155.36000000 152.86000000 154.34000000   \n3  A  2017-09-28 153.46000000 154.90000000 152.34000000 153.68000000   \n4  B  2017-09-22 148.86000000 150.15000000 147.58000000 149.19000000   \n\n         45904657.0       151.78        46179797.0  \n0 43886111.00000000 151.11000000 43724099.00000000  \n1 35431266.00000000 153.10000000 35345230.00000000  \n2 25027198.00000000 154.31000000 24880751.00000000  \n3 21928819.00000000 153.34000000 21995499.00000000  \n4  2900356.00000000 148.82000000  2923116.00000000  "
                    }, 
                    "output_type": "execute_result"
                }
            ], 
            "source": "# The code was removed by Watson Studio for sharing."
        }, 
        {
            "execution_count": null, 
            "cell_type": "code", 
            "metadata": {}, 
            "outputs": [], 
            "source": ""
        }, 
        {
            "execution_count": 24, 
            "cell_type": "code", 
            "metadata": {}, 
            "outputs": [
                {
                    "output_type": "stream", 
                    "name": "stdout", 
                    "text": "Overwriting quiz_tests.py\n"
                }
            ], 
            "source": "%%writefile quiz_tests.py\n\nfrom collections import OrderedDict\nimport pandas as pd\nfrom tests1 import project_test, assert_output\n\n\n\ndef test_csv_to_close(fn):\n    tickers = ['A', 'B', 'C']\n    dates = ['2017-09-22', '2017-09-25', '2017-09-26', '2017-09-27', '2017-09-28']\n\n    fn_inputs = {\n        'csv_filepath': df_data_1,\n        'field_names': ['ticker', 'date', 'open', 'high', 'low', 'close', 'volume', 'adj_close', 'adj_volume']}\n    fn_correct_outputs = OrderedDict([\n        (\n            'close',\n            pd.DataFrame(\n                [\n                    [152.48000000, 149.19000000, 59.35000000],\n                    [151.11000000, 145.06000000, 60.29000000],\n                    [152.42000000, 145.21000000, 57.74000000],\n                    [154.34000000, 147.02000000, 58.41000000],\n                    [153.68000000, 147.19000000, 56.76000000]],\n                dates, tickers))])\n\n    assert_output(fn, fn_inputs, fn_correct_outputs)\n\n"
        }, 
        {
            "execution_count": null, 
            "cell_type": "code", 
            "metadata": {}, 
            "outputs": [], 
            "source": ""
        }, 
        {
            "execution_count": null, 
            "cell_type": "code", 
            "metadata": {}, 
            "outputs": [], 
            "source": ""
        }
    ], 
    "metadata": {
        "kernelspec": {
            "display_name": "Python 3.5", 
            "name": "python3", 
            "language": "python"
        }, 
        "language_info": {
            "mimetype": "text/x-python", 
            "nbconvert_exporter": "python", 
            "version": "3.5.5", 
            "name": "python", 
            "file_extension": ".py", 
            "pygments_lexer": "ipython3", 
            "codemirror_mode": {
                "version": 3, 
                "name": "ipython"
            }
        }
    }, 
    "nbformat": 4
}