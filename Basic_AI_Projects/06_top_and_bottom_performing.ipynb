{
    "nbformat_minor": 2, 
    "cells": [
        {
            "source": "# Top and Bottom Performing\nLet's look at how we might get the top performing stocks for a single period. For this example, we'll look at just a single month of closing prices:", 
            "cell_type": "markdown", 
            "metadata": {}
        }, 
        {
            "execution_count": 39, 
            "cell_type": "code", 
            "metadata": {}, 
            "outputs": [
                {
                    "output_type": "stream", 
                    "name": "stdout", 
                    "text": "Overwriting project_tests.py\n"
                }
            ], 
            "source": "%%writefile project_tests.py\n\nfrom collections import OrderedDict\nimport pandas as pd\nfrom tests1 import project_test, generate_random_tickers, generate_random_dates, assert_output\n\n\n@project_test\ndef test_date_top_industries(fn):\n    tickers = generate_random_tickers(10)\n    dates = generate_random_dates(2)\n\n    fn_inputs = {\n        'prices': pd.DataFrame(\n            [\n                [21.050810483942833, 17.013843810658827, 10.984503755486879, 11.248093428369392, 12.961712733997235,\n                 482.34539247360806, 35.202580592515041, 3516.5416782257166, 66.405314327318209, 13.503960481087077],\n                [15.63570258751384, 14.69054309070934, 11.353027688995159, 475.74195118202061, 11.959640427803022,\n                 10.918933017418304, 17.9086438675435, 24.801265417692324, 12.488954191854916, 15.63570258751384]],\n            dates, tickers),\n        'sector': pd.Series(\n            ['ENERGY', 'MATERIALS', 'ENERGY', 'ENERGY', 'TELECOM', 'FINANCIALS',\n             'TECHNOLOGY', 'HEALTH', 'MATERIALS', 'REAL ESTATE'],\n            tickers),\n        'date': dates[-1],\n        'top_n': 4}\n    fn_correct_outputs = OrderedDict([\n        (\n            'top_industries',\n            set(['ENERGY', 'HEALTH', 'TECHNOLOGY']))])\n\n    assert_output(fn, fn_inputs, fn_correct_outputs)\n\n"
        }, 
        {
            "execution_count": 40, 
            "cell_type": "code", 
            "metadata": {}, 
            "outputs": [
                {
                    "execution_count": 40, 
                    "metadata": {}, 
                    "data": {
                        "text/html": "<div>\n<style scoped>\n    .dataframe tbody tr th:only-of-type {\n        vertical-align: middle;\n    }\n\n    .dataframe tbody tr th {\n        vertical-align: top;\n    }\n\n    .dataframe thead th {\n        text-align: right;\n    }\n</style>\n<table border=\"1\" class=\"dataframe\">\n  <thead>\n    <tr style=\"text-align: right;\">\n      <th></th>\n      <th>A</th>\n      <th>B</th>\n      <th>C</th>\n      <th>D</th>\n      <th>E</th>\n      <th>F</th>\n      <th>G</th>\n      <th>H</th>\n    </tr>\n  </thead>\n  <tbody>\n    <tr>\n      <th>2018-02-01</th>\n      <td>1</td>\n      <td>12</td>\n      <td>35</td>\n      <td>3</td>\n      <td>79</td>\n      <td>2</td>\n      <td>15</td>\n      <td>59</td>\n    </tr>\n  </tbody>\n</table>\n</div>", 
                        "text/plain": "            A   B   C  D   E  F   G   H\n2018-02-01  1  12  35  3  79  2  15  59"
                    }, 
                    "output_type": "execute_result"
                }
            ], 
            "source": "import pandas as pd\n\nmonth = pd.to_datetime('02/01/2018')\nclose_month = pd.DataFrame(\n    {\n        'A': 1,\n        'B': 12,\n        'C': 35,\n        'D': 3,\n        'E': 79,\n        'F': 2,\n        'G': 15,\n        'H': 59},\n    [month])\n\nclose_month"
        }, 
        {
            "source": "`close_month` gives use the prices for the month of February, 2018 for all the stocks in this universe (A, B, C, ...). Looking at these prices, we can see that the top 2 performing stocks for that month was E and H with the prices 79 and 59.\n\nTo get this using code, we can use the [`Series.nlargest`](https://pandas.pydata.org/pandas-docs/version/0.21/generated/pandas.Series.nlargest.html) function. This function returns the items with the *n* largest numbers. For the example we just talked about, our *n* is 2.", 
            "cell_type": "markdown", 
            "metadata": {}
        }, 
        {
            "execution_count": 41, 
            "cell_type": "code", 
            "metadata": {}, 
            "outputs": [
                {
                    "output_type": "stream", 
                    "name": "stdout", 
                    "text": "Error: nlargest() missing 1 required positional argument: 'columns'\n"
                }
            ], 
            "source": "try:\n    # Attempt to run nlargest\n    close_month.nlargest(2)\nexcept TypeError as err:\n    print('Error: {}'.format(err))"
        }, 
        {
            "source": "What happeened here? It turns out we're not calling the [`Series.nlargest`](https://pandas.pydata.org/pandas-docs/version/0.21/generated/pandas.Series.nlargest.html) function, we're actually calling [`DataFrame.nlargest`](https://pandas.pydata.org/pandas-docs/version/0.21/generated/pandas.DataFrame.nlargest.html), since `close_month` is a DataFrame. Let's get the Series from the dataframe using `.loc[month]`, where `month` is the 2018-02-01 index created above.", 
            "cell_type": "markdown", 
            "metadata": {}
        }, 
        {
            "execution_count": 42, 
            "cell_type": "code", 
            "metadata": {}, 
            "outputs": [
                {
                    "execution_count": 42, 
                    "metadata": {}, 
                    "data": {
                        "text/plain": "E    79\nH    59\nName: 2018-02-01 00:00:00, dtype: int64"
                    }, 
                    "output_type": "execute_result"
                }
            ], 
            "source": "close_month.loc[month].nlargest(2)"
        }, 
        {
            "source": "Perfect! That gives us the top performing tickers for that month. Now, how do we get the bottom performing tickers? There's two ways to do this. You can use Panda's [`Series.nsmallest`](https://pandas.pydata.org/pandas-docs/version/0.21/generated/pandas.Series.nsmallest.html) function or just flip the sign on the prices and then apply [`DataFrame.nlargest`](https://pandas.pydata.org/pandas-docs/version/0.21/generated/pandas.DataFrame.nlargest.html). Either way is fine. For this course, we'll flip the sign with nlargest. This allows us to reuse any funtion created with nlargest to get the smallest.\n\nTo get the bottom 2 performing tickers from `close_month`, we'll flip the sign.", 
            "cell_type": "markdown", 
            "metadata": {}
        }, 
        {
            "execution_count": 43, 
            "cell_type": "code", 
            "metadata": {}, 
            "outputs": [
                {
                    "execution_count": 43, 
                    "metadata": {}, 
                    "data": {
                        "text/plain": "A   -1\nF   -2\nName: 2018-02-01 00:00:00, dtype: int64"
                    }, 
                    "output_type": "execute_result"
                }
            ], 
            "source": "(-1 * close_month).loc[month].nlargest(2)"
        }, 
        {
            "source": "That gives us the bottom performing tickers, but not the actual prices. To get this, we can flip the sign from the output of nlargest.", 
            "cell_type": "markdown", 
            "metadata": {}
        }, 
        {
            "execution_count": 44, 
            "cell_type": "code", 
            "metadata": {}, 
            "outputs": [
                {
                    "execution_count": 44, 
                    "metadata": {}, 
                    "data": {
                        "text/plain": "A    1\nF    2\nName: 2018-02-01 00:00:00, dtype: int64"
                    }, 
                    "output_type": "execute_result"
                }
            ], 
            "source": "(-1 * close_month).loc[month].nlargest(2) *-1"
        }, 
        {
            "source": "Now you've seen how to get the top and bottom performing prices in a single month. Let's see if you can apply this knowledge.\n## Quiz\nImplement `date_top_industries` to find the top performing closing prices and return their sectors for a single date. The function should only return the [set](https://docs.python.org/3/tutorial/datastructures.html#sets) of sectors, there shouldn't be any duplicates returned.\n\n- The number of top performing prices to look at is represented by the parameter `top_n`.\n- The `date` parameter is the date to look for the top performing prices in the `prices` DataFrame.\n- The sector information for each ticker is located in the `sector` parameter.\n\nFor example:\n```\n                 Prices\n               A         B         C         D         E\n2013-07-08     2         2         7         2         6\n2013-07-09     5         3         6         7         5\n...            ...       ...       ...\n\n           Sector\nA       \"Utilities\"       \nB       \"Health Care\"       \nC       \"Real Estate\"\nD       \"Real Estate\"\nE       \"Information Technology\"\n\nDate:  2013-07-09\nTop N: 3\n```\nThe set created from the function `date_top_industries` should be the following:\n```\n{\"Utilities\", \"Real Estate\"}\n```\n*Note: Stock A and E have the same price for the date, but only A's sector got returned. We'll keep it simple and only take the first occurrences of ties.*", 
            "cell_type": "markdown", 
            "metadata": {}
        }, 
        {
            "execution_count": 49, 
            "cell_type": "code", 
            "metadata": {}, 
            "outputs": [
                {
                    "output_type": "stream", 
                    "name": "stdout", 
                    "text": "                  IRMU         GLB        JBYW          ZCS         JNH  \\\n2007-09-17 21.05081048 17.01384381 10.98450376  11.24809343 12.96171273   \n2007-09-18 15.63570259 14.69054309 11.35302769 475.74195118 11.95964043   \n\n                    YFZ        FZDY           XEU        IHWC         LEP  \n2007-09-17 482.34539247 35.20258059 3516.54167823 66.40531433 13.50396048  \n2007-09-18  10.91893302 17.90864387   24.80126542 12.48895419 15.63570259  \n Top n stock -  Index(['ZCS', 'XEU', 'FZDY', 'IRMU'], dtype='object')\nTests Passed\n"
                }
            ], 
            "source": "import project_tests\nfrom collections import OrderedDict\nimport pandas as pd\nfrom tests1 import project_test, generate_random_tickers, generate_random_dates, assert_output\n\n\ndef date_top_industries(prices, sector, date, top_n):\n    \"\"\"\n    Get the set of the top industries for the date\n    \n    Parameters\n    ----------\n    prices : DataFrame\n        Prices for each ticker and date\n    sector : Series\n        Sector name for each ticker\n    date : Date\n        Date to get the top performers\n    top_n : int\n        Number of top performers to get\n    \n    Returns\n    -------\n    top_industries : set\n        Top industries for the date\n    \"\"\"\n    # TODO: Implement Function\n    print(prices)\n    #print(sector)\n    #print(date)\n    \n    \n    top_n_stock=prices.loc[date].nlargest(top_n).index\n    top_sectors=set(sector.loc[top_n_stock])\n    print(\" Top n stock - \",   top_n_stock)\n    \n    return top_sectors\n\n\nproject_tests.test_date_top_industries(date_top_industries)"
        }, 
        {
            "execution_count": null, 
            "cell_type": "code", 
            "metadata": {}, 
            "outputs": [], 
            "source": ""
        }, 
        {
            "source": "## Quiz Solution\nIf you're having trouble, you can check out the quiz solution [here](top_and_bottom_performing_solution.ipynb).", 
            "cell_type": "markdown", 
            "metadata": {}
        }
    ], 
    "metadata": {
        "kernelspec": {
            "display_name": "Python 3.5", 
            "name": "python3", 
            "language": "python"
        }, 
        "language_info": {
            "mimetype": "text/x-python", 
            "nbconvert_exporter": "python", 
            "version": "3.5.5", 
            "name": "python", 
            "file_extension": ".py", 
            "pygments_lexer": "ipython3", 
            "codemirror_mode": {
                "version": 3, 
                "name": "ipython"
            }
        }
    }, 
    "nbformat": 4
}