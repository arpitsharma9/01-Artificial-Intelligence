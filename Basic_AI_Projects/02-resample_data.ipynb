{
    "nbformat_minor": 2, 
    "cells": [
        {
            "source": "# Resample Data\n## Pandas Resample\nYou've learned about bucketing to different periods of time like Months. Let's see how it's done. We'll start with an example series of days.", 
            "cell_type": "markdown", 
            "metadata": {}
        }, 
        {
            "execution_count": 12, 
            "cell_type": "code", 
            "metadata": {}, 
            "outputs": [
                {
                    "execution_count": 12, 
                    "metadata": {}, 
                    "data": {
                        "text/plain": "2018-10-10     0\n2018-10-11     1\n2018-10-12     2\n2018-10-13     3\n2018-10-14     4\n2018-10-15     5\n2018-10-16     6\n2018-10-17     7\n2018-10-18     8\n2018-10-19     9\n2018-10-20    10\nFreq: D, dtype: int64"
                    }, 
                    "output_type": "execute_result"
                }
            ], 
            "source": "import numpy as np\nimport pandas as pd\n\ndates = pd.date_range('10/10/2018', periods=11, freq='D')\nclose_prices = np.arange(len(dates))\n\nclose = pd.Series(close_prices, dates)\nclose"
        }, 
        {
            "source": "Let's say we want to bucket these days into 3 day periods. To do that, we'll use the [DataFrame.resample](https://pandas.pydata.org/pandas-docs/version/0.21/generated/pandas.DataFrame.resample.html) function. The first parameter in this function is a string called `rule`, which is a representation of how to resample the data. This string representation is made using an offset alias. You can find a list of them [here](http://pandas.pydata.org/pandas-docs/stable/timeseries.html#offset-aliases). To create 3 day periods, we'll set `rule` to \"3D\".", 
            "cell_type": "markdown", 
            "metadata": {}
        }, 
        {
            "execution_count": 13, 
            "cell_type": "code", 
            "metadata": {}, 
            "outputs": [
                {
                    "execution_count": 13, 
                    "metadata": {}, 
                    "data": {
                        "text/plain": "DatetimeIndexResampler [freq=<3 * Days>, axis=0, closed=left, label=left, convention=start, base=0]"
                    }, 
                    "output_type": "execute_result"
                }
            ], 
            "source": "close.resample('3D')"
        }, 
        {
            "source": "This returns a `DatetimeIndexResampler` object. It's an intermediate object similar to the `GroupBy` object. Just like group by, it breaks the original data into groups. That means, we'll have to apply an operation to these groups. Let's make it simple and get the first element from each group.", 
            "cell_type": "markdown", 
            "metadata": {}
        }, 
        {
            "execution_count": 14, 
            "cell_type": "code", 
            "metadata": {}, 
            "outputs": [
                {
                    "execution_count": 14, 
                    "metadata": {}, 
                    "data": {
                        "text/plain": "2018-10-10    0\n2018-10-13    3\n2018-10-16    6\n2018-10-19    9\nFreq: 3D, dtype: int64"
                    }, 
                    "output_type": "execute_result"
                }
            ], 
            "source": "close.resample('3D').first()"
        }, 
        {
            "source": "You might notice that this is the same as `.iloc[::3]`", 
            "cell_type": "markdown", 
            "metadata": {}
        }, 
        {
            "execution_count": 15, 
            "cell_type": "code", 
            "metadata": {}, 
            "outputs": [
                {
                    "execution_count": 15, 
                    "metadata": {}, 
                    "data": {
                        "text/plain": "2018-10-10    0\n2018-10-13    3\n2018-10-16    6\n2018-10-19    9\nFreq: 3D, dtype: int64"
                    }, 
                    "output_type": "execute_result"
                }
            ], 
            "source": "close.iloc[::3]"
        }, 
        {
            "source": "So, why use the `resample` function instead of `.iloc[::3]` or the `groupby` function?\n\nThe `resample` function shines when handling time and/or date specific tasks. In fact, you can't use this function if the index isn't a [time-related class](https://pandas.pydata.org/pandas-docs/version/0.21/timeseries.html#overview).", 
            "cell_type": "markdown", 
            "metadata": {}
        }, 
        {
            "execution_count": 16, 
            "cell_type": "code", 
            "metadata": {}, 
            "outputs": [
                {
                    "output_type": "stream", 
                    "name": "stdout", 
                    "text": "It threw a TypeError.\n"
                }
            ], 
            "source": "try:\n    # Attempt resample on a series without a time index\n    pd.Series(close_prices).resample('W')\nexcept TypeError:\n    print('It threw a TypeError.')\nelse:\n    print('It worked.')"
        }, 
        {
            "source": "One of the resampling tasks it can help with is resampling on periods, like weeks. Let's resample `close` from it's days frequency to weeks. We'll use the \"W\" offset allies, which stands for Weeks.", 
            "cell_type": "markdown", 
            "metadata": {}
        }, 
        {
            "execution_count": 17, 
            "cell_type": "code", 
            "metadata": {}, 
            "outputs": [
                {
                    "execution_count": 17, 
                    "metadata": {}, 
                    "data": {
                        "text/html": "<div>\n<style scoped>\n    .dataframe tbody tr th:only-of-type {\n        vertical-align: middle;\n    }\n\n    .dataframe tbody tr th {\n        vertical-align: top;\n    }\n\n    .dataframe thead th {\n        text-align: right;\n    }\n</style>\n<table border=\"1\" class=\"dataframe\">\n  <thead>\n    <tr style=\"text-align: right;\">\n      <th></th>\n      <th>days</th>\n      <th>weeks</th>\n      <th>weeks-last</th>\n      <th>weeks-max</th>\n      <th>weeks-mean</th>\n      <th>weeks-min</th>\n    </tr>\n  </thead>\n  <tbody>\n    <tr>\n      <th>2018-10-10</th>\n      <td>0.0</td>\n      <td>NaN</td>\n      <td>NaN</td>\n      <td>NaN</td>\n      <td>NaN</td>\n      <td>NaN</td>\n    </tr>\n    <tr>\n      <th>2018-10-11</th>\n      <td>1.0</td>\n      <td>NaN</td>\n      <td>NaN</td>\n      <td>NaN</td>\n      <td>NaN</td>\n      <td>NaN</td>\n    </tr>\n    <tr>\n      <th>2018-10-12</th>\n      <td>2.0</td>\n      <td>NaN</td>\n      <td>NaN</td>\n      <td>NaN</td>\n      <td>NaN</td>\n      <td>NaN</td>\n    </tr>\n    <tr>\n      <th>2018-10-13</th>\n      <td>3.0</td>\n      <td>NaN</td>\n      <td>NaN</td>\n      <td>NaN</td>\n      <td>NaN</td>\n      <td>NaN</td>\n    </tr>\n    <tr>\n      <th>2018-10-14</th>\n      <td>4.0</td>\n      <td>0.0</td>\n      <td>4.0</td>\n      <td>4.0</td>\n      <td>2.0</td>\n      <td>0.0</td>\n    </tr>\n    <tr>\n      <th>2018-10-15</th>\n      <td>5.0</td>\n      <td>NaN</td>\n      <td>NaN</td>\n      <td>NaN</td>\n      <td>NaN</td>\n      <td>NaN</td>\n    </tr>\n    <tr>\n      <th>2018-10-16</th>\n      <td>6.0</td>\n      <td>NaN</td>\n      <td>NaN</td>\n      <td>NaN</td>\n      <td>NaN</td>\n      <td>NaN</td>\n    </tr>\n    <tr>\n      <th>2018-10-17</th>\n      <td>7.0</td>\n      <td>NaN</td>\n      <td>NaN</td>\n      <td>NaN</td>\n      <td>NaN</td>\n      <td>NaN</td>\n    </tr>\n    <tr>\n      <th>2018-10-18</th>\n      <td>8.0</td>\n      <td>NaN</td>\n      <td>NaN</td>\n      <td>NaN</td>\n      <td>NaN</td>\n      <td>NaN</td>\n    </tr>\n    <tr>\n      <th>2018-10-19</th>\n      <td>9.0</td>\n      <td>NaN</td>\n      <td>NaN</td>\n      <td>NaN</td>\n      <td>NaN</td>\n      <td>NaN</td>\n    </tr>\n    <tr>\n      <th>2018-10-20</th>\n      <td>10.0</td>\n      <td>NaN</td>\n      <td>NaN</td>\n      <td>NaN</td>\n      <td>NaN</td>\n      <td>NaN</td>\n    </tr>\n    <tr>\n      <th>2018-10-21</th>\n      <td>NaN</td>\n      <td>5.0</td>\n      <td>10.0</td>\n      <td>10.0</td>\n      <td>7.5</td>\n      <td>5.0</td>\n    </tr>\n  </tbody>\n</table>\n</div>", 
                        "text/plain": "            days  weeks  weeks-last  weeks-max  weeks-mean  weeks-min\n2018-10-10   0.0    NaN         NaN        NaN         NaN        NaN\n2018-10-11   1.0    NaN         NaN        NaN         NaN        NaN\n2018-10-12   2.0    NaN         NaN        NaN         NaN        NaN\n2018-10-13   3.0    NaN         NaN        NaN         NaN        NaN\n2018-10-14   4.0    0.0         4.0        4.0         2.0        0.0\n2018-10-15   5.0    NaN         NaN        NaN         NaN        NaN\n2018-10-16   6.0    NaN         NaN        NaN         NaN        NaN\n2018-10-17   7.0    NaN         NaN        NaN         NaN        NaN\n2018-10-18   8.0    NaN         NaN        NaN         NaN        NaN\n2018-10-19   9.0    NaN         NaN        NaN         NaN        NaN\n2018-10-20  10.0    NaN         NaN        NaN         NaN        NaN\n2018-10-21   NaN    5.0        10.0       10.0         7.5        5.0"
                    }, 
                    "output_type": "execute_result"
                }
            ], 
            "source": "pd.DataFrame({\n    'days': close,\n    'weeks': close.resample('W').first(),\n    'weeks-last': close.resample('W').last(),\n    'weeks-max': close.resample('W').max(),\n    'weeks-min': close.resample('W').min(),\n    'weeks-mean': close.resample('W').mean()\n\n})"
        }, 
        {
            "source": "The weeks offset considers the start of a week on a Monday. Since 2018-10-10 is a Wednesday, the first group only looks at the first 5 items. There are offsets that handle more complicated problems like filtering for Holidays. For now, we'll only worry about resampling for days, weeks, months, quarters, and years. The frequency you want the data to be in, will depend on how often you'll be trading. If you're making trade decisions based on reports that come out at the end of the year, we might only care about a frequency of years or months.\n## OHLC\nNow that you've seen how Pandas resamples time series data, we can apply this to Open, High, Low, and Close (OHLC). Pandas provides the [`Resampler.ohlc`](https://pandas.pydata.org/pandas-docs/version/0.21.0/generated/pandas.core.resample.Resampler.ohlc.html#pandas.core.resample.Resampler.ohlc) function will convert any resampling frequency to OHLC data. Let's get the Weekly OHLC.", 
            "cell_type": "markdown", 
            "metadata": {}
        }, 
        {
            "execution_count": 18, 
            "cell_type": "code", 
            "metadata": {}, 
            "outputs": [
                {
                    "execution_count": 18, 
                    "metadata": {}, 
                    "data": {
                        "text/html": "<div>\n<style scoped>\n    .dataframe tbody tr th:only-of-type {\n        vertical-align: middle;\n    }\n\n    .dataframe tbody tr th {\n        vertical-align: top;\n    }\n\n    .dataframe thead th {\n        text-align: right;\n    }\n</style>\n<table border=\"1\" class=\"dataframe\">\n  <thead>\n    <tr style=\"text-align: right;\">\n      <th></th>\n      <th>open</th>\n      <th>high</th>\n      <th>low</th>\n      <th>close</th>\n    </tr>\n  </thead>\n  <tbody>\n    <tr>\n      <th>2018-10-14</th>\n      <td>0</td>\n      <td>4</td>\n      <td>0</td>\n      <td>4</td>\n    </tr>\n    <tr>\n      <th>2018-10-21</th>\n      <td>5</td>\n      <td>10</td>\n      <td>5</td>\n      <td>10</td>\n    </tr>\n  </tbody>\n</table>\n</div>", 
                        "text/plain": "            open  high  low  close\n2018-10-14     0     4    0      4\n2018-10-21     5    10    5     10"
                    }, 
                    "output_type": "execute_result"
                }
            ], 
            "source": "close.resample('W').ohlc()"
        }, 
        {
            "source": "Can you spot a potential problem with that? It has to do with resampling data that has already been resampled.\n\nWe're getting the OHLC from close data. If we want OHLC data from already resampled data, we should resample the first price from the open data, resample the highest price from the high data, etc..\n\nTo get the weekly closing prices from `close`, you can use the [`Resampler.last`](https://pandas.pydata.org/pandas-docs/version/0.21.0/generated/pandas.core.resample.Resampler.last.html#pandas.core.resample.Resampler.last) function.", 
            "cell_type": "markdown", 
            "metadata": {}
        }, 
        {
            "execution_count": 19, 
            "cell_type": "code", 
            "metadata": {}, 
            "outputs": [
                {
                    "execution_count": 19, 
                    "metadata": {}, 
                    "data": {
                        "text/plain": "2018-10-14     4\n2018-10-21    10\nFreq: W-SUN, dtype: int64"
                    }, 
                    "output_type": "execute_result"
                }
            ], 
            "source": "close.resample('W').last()"
        }, 
        {
            "source": "## Quiz\nImplement `days_to_weeks` function to resample OHLC price data to weekly OHLC price data. You find find more Resampler functions [here](https://pandas.pydata.org/pandas-docs/version/0.21.0/api.html#id44) for calculating high and low prices.", 
            "cell_type": "markdown", 
            "metadata": {}
        }, 
        {
            "execution_count": 20, 
            "cell_type": "code", 
            "metadata": {}, 
            "outputs": [
                {
                    "output_type": "stream", 
                    "name": "stdout", 
                    "text": "Overwriting quiz_tests_resample.py\n"
                }
            ], 
            "source": "%%writefile quiz_tests_resample.py\nfrom collections import OrderedDict\nimport pandas as pd\nfrom tests1 import project_test, assert_output, generate_random_tickers\n\n\n@project_test\ndef test_days_to_weeks(fn):\n    tickers = generate_random_tickers(3)\n    dates = pd.date_range('10/10/2018', periods=28, freq='D')\n    resampled_dates = [\n        pd.Timestamp('2018-10-14 00:00:00', freq='W-SUN'),\n        pd.Timestamp('2018-10-21 00:00:00', freq='W-SUN'),\n        pd.Timestamp('2018-10-28 00:00:00', freq='W-SUN'),\n        pd.Timestamp('2018-11-04 00:00:00', freq='W-SUN'),\n        pd.Timestamp('2018-11-11 00:00:00', freq='W-SUN')]\n\n    fn_inputs = {\n        'open_prices': pd.DataFrame(\n            [\n                [24, 21, 43],\n                [14, 22, 41],\n                [29, 23, 44],\n                [44, 14, 13],\n                [31, 28, 34],\n                [36, 49, 27],\n                [48, 20, 46],\n                [48, 37, 27],\n                [16, 42, 22],\n                [23, 36, 32],\n                [13, 31, 28],\n                [23, 33, 18],\n                [14, 47, 45],\n                [28, 21, 31],\n                [31, 36, 40],\n                [19, 25, 46],\n                [30, 46, 48],\n                [19, 34, 35],\n                [24, 13, 24],\n                [48, 15, 39],\n                [16, 34, 14],\n                [37, 30, 28],\n                [34, 24, 20],\n                [17, 15, 38],\n                [44, 15, 22],\n                [24, 36, 28],\n                [12, 41, 49],\n                [24, 27, 14]],\n            dates, tickers),\n        'high_prices': pd.DataFrame(\n            [\n                [48, 48, 43],\n                [42, 49, 47],\n                [45, 47, 48],\n                [48, 46, 48],\n                [49, 49, 46],\n                [40, 49, 49],\n                [49, 44, 49],\n                [49, 46, 48],\n                [46, 49, 49],\n                [49, 47, 47],\n                [45, 49, 46],\n                [45, 49, 49],\n                [49, 48, 48],\n                [48, 49, 49],\n                [49, 49, 48],\n                [48, 48, 49],\n                [48, 47, 48],\n                [47, 49, 49],\n                [47, 49, 49],\n                [48, 49, 48],\n                [49, 49, 47],\n                [48, 47, 48],\n                [47, 48, 47],\n                [49, 49, 45],\n                [49, 49, 49],\n                [47, 46, 48],\n                [47, 47, 49],\n                [49, 49, 46]],\n            dates, tickers),\n        'low_prices': pd.DataFrame(\n            [\n                [12, 12, 13],\n                [12, 14, 15],\n                [13, 14, 12],\n                [14, 14, 13],\n                [12, 12, 14],\n                [12, 12, 12],\n                [12, 12, 12],\n                [13, 12, 13],\n                [12, 12, 13],\n                [14, 12, 14],\n                [12, 12, 12],\n                [13, 14, 16],\n                [14, 13, 13],\n                [13, 14, 12],\n                [14, 12, 14],\n                [15, 12, 13],\n                [12, 12, 12],\n                [12, 13, 15],\n                [14, 12, 12],\n                [12, 12, 12],\n                [12, 14, 13],\n                [12, 12, 13],\n                [13, 14, 15],\n                [12, 12, 12],\n                [12, 14, 12],\n                [12, 12, 13],\n                [12, 12, 12],\n                [16, 12, 14]],\n            dates, tickers),\n        'close_prices': pd.DataFrame(\n            [\n                [27, 45, 15],\n                [40, 49, 40],\n                [25, 26, 36],\n                [26, 36, 19],\n                [25, 34, 46],\n                [22, 39, 45],\n                [40, 14, 17],\n                [42, 46, 33],\n                [35, 41, 49],\n                [14, 24, 31],\n                [41, 18, 13],\n                [36, 27, 18],\n                [16, 16, 45],\n                [37, 24, 16],\n                [43, 40, 28],\n                [39, 29, 45],\n                [38, 20, 43],\n                [44, 13, 34],\n                [23, 17, 47],\n                [25, 14, 38],\n                [48, 44, 23],\n                [37, 24, 33],\n                [40, 28, 17],\n                [31, 12, 44],\n                [29, 40, 49],\n                [18, 30, 13],\n                [27, 16, 47],\n                [31, 32, 14]],\n            dates, tickers)}\n    fn_correct_outputs = OrderedDict([\n        (\n            'open_prices_weekly',\n            pd.DataFrame(\n                [\n                    [24, 21, 43],\n                    [36, 49, 27],\n                    [14, 47, 45],\n                    [48, 15, 39],\n                    [12, 41, 49]],\n                resampled_dates, tickers)),\n        (\n            'high_prices_weekly',\n            pd.DataFrame(\n                [\n                    [49, 49, 48],\n                    [49, 49, 49],\n                    [49, 49, 49],\n                    [49, 49, 49],\n                    [49, 49, 49]],\n                resampled_dates, tickers)),\n        (\n            'low_prices_weekly',\n            pd.DataFrame(\n                [\n                    [12, 12, 12],\n                    [12, 12, 12],\n                    [12, 12, 12],\n                    [12, 12, 12],\n                    [12, 12, 12]],\n                resampled_dates, tickers)),\n        (\n            'close_prices_weekly',\n            pd.DataFrame(\n                [\n                    [25, 34, 46],\n                    [36, 27, 18],\n                    [23, 17, 47],\n                    [18, 30, 13],\n                    [31, 32, 14]],\n                resampled_dates, tickers))])\n\n    assert_output(fn, fn_inputs, fn_correct_outputs)\n\n"
        }, 
        {
            "execution_count": 21, 
            "cell_type": "code", 
            "metadata": {}, 
            "outputs": [
                {
                    "output_type": "stream", 
                    "name": "stdout", 
                    "text": "Tests Passed\n"
                }
            ], 
            "source": "import quiz_tests_resample\n\n\ndef days_to_weeks(open_prices, high_prices, low_prices, close_prices):\n    \"\"\"Converts daily OHLC prices to weekly OHLC prices.\n    \n    Parameters\n    ----------\n    open_prices : DataFrame\n        Daily open prices for each ticker and date\n    high_prices : DataFrame\n        Daily high prices for each ticker and date\n    low_prices : DataFrame\n        Daily low prices for each ticker and date\n    close_prices : DataFrame\n        Daily close prices for each ticker and date\n\n    Returns\n    -------\n    open_prices_weekly : DataFrame\n        Weekly open prices for each ticker and date\n    high_prices_weekly : DataFrame\n        Weekly high prices for each ticker and date\n    low_prices_weekly : DataFrame\n        Weekly low prices for each ticker and date\n    close_prices_weekly : DataFrame\n        Weekly close prices for each ticker and date\n    \"\"\"\n    \n    # TODO: Implement Function\n    open_prices_weekly=open_prices.resample('W').first()\n    high_prices_weekly=high_prices.resample('W').max()\n    low_prices_weekly=low_prices.resample('W').min()\n    close_prices_weekly=close_prices.resample('W').last()\n    \n    return open_prices_weekly, high_prices_weekly, low_prices_weekly, close_prices_weekly\n\n\nquiz_tests_resample.test_days_to_weeks(days_to_weeks)"
        }, 
        {
            "source": "## Quiz Solution\nIf you're having trouble, you can check out the quiz solution [here](resample_data_solution.ipynb).", 
            "cell_type": "markdown", 
            "metadata": {}
        }
    ], 
    "metadata": {
        "kernelspec": {
            "display_name": "Python 3.5", 
            "name": "python3", 
            "language": "python"
        }, 
        "language_info": {
            "mimetype": "text/x-python", 
            "nbconvert_exporter": "python", 
            "version": "3.5.5", 
            "name": "python", 
            "file_extension": ".py", 
            "pygments_lexer": "ipython3", 
            "codemirror_mode": {
                "version": 3, 
                "name": "ipython"
            }
        }
    }, 
    "nbformat": 4
}