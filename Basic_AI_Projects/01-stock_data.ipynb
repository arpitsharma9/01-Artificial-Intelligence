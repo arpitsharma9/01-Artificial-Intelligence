{
    "nbformat_minor": 2, 
    "cells": [
        {
            "source": "## Stock Data\nNow that you've had exposure to time series data, let's look at bringing stock prices into Pandas.\n## Reading in Data\nYour dataset can come in a variety of different formats. The most common format is the [CSV](https://en.wikipedia.org/wiki/Comma-separated_values). We'll use the \"prices.csv\" file as an example csv file.", 
            "cell_type": "markdown", 
            "metadata": {}
        }, 
        {
            "execution_count": 144, 
            "cell_type": "code", 
            "metadata": {}, 
            "outputs": [
                {
                    "execution_count": 144, 
                    "metadata": {}, 
                    "data": {
                        "text/html": "<div>\n<style scoped>\n    .dataframe tbody tr th:only-of-type {\n        vertical-align: middle;\n    }\n\n    .dataframe tbody tr th {\n        vertical-align: top;\n    }\n\n    .dataframe thead th {\n        text-align: right;\n    }\n</style>\n<table border=\"1\" class=\"dataframe\">\n  <thead>\n    <tr style=\"text-align: right;\">\n      <th></th>\n      <th>ticker</th>\n      <th>date</th>\n      <th>open</th>\n      <th>high</th>\n      <th>low</th>\n      <th>close</th>\n      <th>volume</th>\n      <th>adj_close</th>\n      <th>adj_volume</th>\n    </tr>\n  </thead>\n  <tbody>\n    <tr>\n      <th>0</th>\n      <td>ABC</td>\n      <td>2017-09-05</td>\n      <td>163.09000000</td>\n      <td>164.24000000</td>\n      <td>160.21000000</td>\n      <td>162.63000000</td>\n      <td>29417590.00000000</td>\n      <td>162.49000000</td>\n      <td>29414672.00000000</td>\n    </tr>\n    <tr>\n      <th>1</th>\n      <td>ABC</td>\n      <td>2017-09-06</td>\n      <td>162.85000000</td>\n      <td>162.46000000</td>\n      <td>159.99000000</td>\n      <td>161.13000000</td>\n      <td>21131267.00000000</td>\n      <td>162.44000000</td>\n      <td>21169319.00000000</td>\n    </tr>\n    <tr>\n      <th>2</th>\n      <td>ABC</td>\n      <td>2017-09-07</td>\n      <td>162.11000000</td>\n      <td>162.70000000</td>\n      <td>160.65000000</td>\n      <td>161.26000000</td>\n      <td>21722502.00000000</td>\n      <td>161.46000000</td>\n      <td>21719856.00000000</td>\n    </tr>\n    <tr>\n      <th>3</th>\n      <td>ABC</td>\n      <td>2017-09-08</td>\n      <td>160.41000000</td>\n      <td>160.89000000</td>\n      <td>159.31000000</td>\n      <td>158.05000000</td>\n      <td>28311012.00000000</td>\n      <td>158.26000000</td>\n      <td>28305810.00000000</td>\n    </tr>\n    <tr>\n      <th>4</th>\n      <td>ABC</td>\n      <td>2017-09-11</td>\n      <td>161.09000000</td>\n      <td>162.14000000</td>\n      <td>159.54000000</td>\n      <td>161.29000000</td>\n      <td>31075573.00000000</td>\n      <td>160.97000000</td>\n      <td>31163734.00000000</td>\n    </tr>\n  </tbody>\n</table>\n</div>", 
                        "text/plain": "  ticker        date         open         high          low        close  \\\n0    ABC  2017-09-05 163.09000000 164.24000000 160.21000000 162.63000000   \n1    ABC  2017-09-06 162.85000000 162.46000000 159.99000000 161.13000000   \n2    ABC  2017-09-07 162.11000000 162.70000000 160.65000000 161.26000000   \n3    ABC  2017-09-08 160.41000000 160.89000000 159.31000000 158.05000000   \n4    ABC  2017-09-11 161.09000000 162.14000000 159.54000000 161.29000000   \n\n             volume    adj_close        adj_volume  \n0 29417590.00000000 162.49000000 29414672.00000000  \n1 21131267.00000000 162.44000000 21169319.00000000  \n2 21722502.00000000 161.46000000 21719856.00000000  \n3 28311012.00000000 158.26000000 28305810.00000000  \n4 31075573.00000000 160.97000000 31163734.00000000  "
                    }, 
                    "output_type": "execute_result"
                }
            ], 
            "source": "# The code was removed by Watson Studio for sharing."
        }, 
        {
            "execution_count": 145, 
            "cell_type": "code", 
            "metadata": {}, 
            "outputs": [
                {
                    "execution_count": 145, 
                    "metadata": {}, 
                    "data": {
                        "text/html": "<div>\n<style scoped>\n    .dataframe tbody tr th:only-of-type {\n        vertical-align: middle;\n    }\n\n    .dataframe tbody tr th {\n        vertical-align: top;\n    }\n\n    .dataframe thead th {\n        text-align: right;\n    }\n</style>\n<table border=\"1\" class=\"dataframe\">\n  <thead>\n    <tr style=\"text-align: right;\">\n      <th></th>\n      <th>ticker</th>\n      <th>date</th>\n      <th>open</th>\n      <th>high</th>\n      <th>low</th>\n      <th>close</th>\n      <th>volume</th>\n      <th>adj_close</th>\n      <th>adj_volume</th>\n    </tr>\n  </thead>\n  <tbody>\n    <tr>\n      <th>0</th>\n      <td>A</td>\n      <td>2017-09-22</td>\n      <td>152.46000000</td>\n      <td>152.72000000</td>\n      <td>150.31000000</td>\n      <td>152.48000000</td>\n      <td>45904657.00000000</td>\n      <td>151.78000000</td>\n      <td>46179797.00000000</td>\n    </tr>\n    <tr>\n      <th>1</th>\n      <td>A</td>\n      <td>2017-09-25</td>\n      <td>149.54000000</td>\n      <td>151.93000000</td>\n      <td>148.46000000</td>\n      <td>151.11000000</td>\n      <td>43886111.00000000</td>\n      <td>151.11000000</td>\n      <td>43724099.00000000</td>\n    </tr>\n    <tr>\n      <th>2</th>\n      <td>A</td>\n      <td>2017-09-26</td>\n      <td>152.33000000</td>\n      <td>154.31000000</td>\n      <td>152.41000000</td>\n      <td>152.42000000</td>\n      <td>35431266.00000000</td>\n      <td>153.10000000</td>\n      <td>35345230.00000000</td>\n    </tr>\n    <tr>\n      <th>3</th>\n      <td>A</td>\n      <td>2017-09-27</td>\n      <td>153.43000000</td>\n      <td>155.36000000</td>\n      <td>152.86000000</td>\n      <td>154.34000000</td>\n      <td>25027198.00000000</td>\n      <td>154.31000000</td>\n      <td>24880751.00000000</td>\n    </tr>\n    <tr>\n      <th>4</th>\n      <td>A</td>\n      <td>2017-09-28</td>\n      <td>153.46000000</td>\n      <td>154.90000000</td>\n      <td>152.34000000</td>\n      <td>153.68000000</td>\n      <td>21928819.00000000</td>\n      <td>153.34000000</td>\n      <td>21995499.00000000</td>\n    </tr>\n  </tbody>\n</table>\n</div>", 
                        "text/plain": "  ticker        date         open         high          low        close  \\\n0      A  2017-09-22 152.46000000 152.72000000 150.31000000 152.48000000   \n1      A  2017-09-25 149.54000000 151.93000000 148.46000000 151.11000000   \n2      A  2017-09-26 152.33000000 154.31000000 152.41000000 152.42000000   \n3      A  2017-09-27 153.43000000 155.36000000 152.86000000 154.34000000   \n4      A  2017-09-28 153.46000000 154.90000000 152.34000000 153.68000000   \n\n             volume    adj_close        adj_volume  \n0 45904657.00000000 151.78000000 46179797.00000000  \n1 43886111.00000000 151.11000000 43724099.00000000  \n2 35431266.00000000 153.10000000 35345230.00000000  \n3 25027198.00000000 154.31000000 24880751.00000000  \n4 21928819.00000000 153.34000000 21995499.00000000  "
                    }, 
                    "output_type": "execute_result"
                }
            ], 
            "source": "\nbody = client_a62c8cfdc9c54b598152b0aa1925b762.get_object(Bucket='aiprojects-donotdelete-pr-vpy9lukvrmyy6w',Key='prices_2017_09_22_2017-09-28.csv')['Body']\n# add missing __iter__ method, so pandas accepts body as file-like object\nif not hasattr(body, \"__iter__\"): body.__iter__ = types.MethodType( __iter__, body )\n\ndf_data_2 = pd.read_csv(body,names=['ticker', 'date', 'open', 'high', 'low',\n                                             'close', 'volume', 'adj_close', 'adj_volume'])\ndf_data_2.head()\n\n"
        }, 
        {
            "execution_count": 146, 
            "cell_type": "code", 
            "metadata": {}, 
            "outputs": [], 
            "source": "#with open('prices.csv', 'r') as file:\n#    prices = file.read()\n    \n#print(prices)"
        }, 
        {
            "source": "The data provider will provide you with information for each field in the CSV. This csv has the fields ticker, date, open, high, low, close, volume, adj_close, adj_volume in that order. That means, the first line in the CSV has the following data:\n\n- ticker: ABC\n- date: 2017-09-05\n- open: 163.09\n- high: 164.24\n- low: 160.21\n- close: 162.63\n- volume: 29417590.0\n- adj_close: 162.49\n- adj_volume: 29414672.0\n\nLet's move this data into a DataFrame. For this, we'll need to use the [`pd.read_csv`](https://pandas.pydata.org/pandas-docs/version/0.21.1/generated/pandas.read_csv.html) function. This allows you generate a DataFrame from CSV data.", 
            "cell_type": "markdown", 
            "metadata": {}
        }, 
        {
            "execution_count": 147, 
            "cell_type": "code", 
            "metadata": {}, 
            "outputs": [], 
            "source": "import pandas as pd\n\n#price_df = df_data_1\n\n#price_df"
        }, 
        {
            "source": "That generated a DataFrame using the CSV, but assumed the first row contains the field names. We'll have to supply the function's parameter `names` with a list of fiels names.", 
            "cell_type": "markdown", 
            "metadata": {}
        }, 
        {
            "execution_count": 148, 
            "cell_type": "code", 
            "metadata": {}, 
            "outputs": [
                {
                    "execution_count": 148, 
                    "metadata": {}, 
                    "data": {
                        "text/html": "<div>\n<style scoped>\n    .dataframe tbody tr th:only-of-type {\n        vertical-align: middle;\n    }\n\n    .dataframe tbody tr th {\n        vertical-align: top;\n    }\n\n    .dataframe thead th {\n        text-align: right;\n    }\n</style>\n<table border=\"1\" class=\"dataframe\">\n  <thead>\n    <tr style=\"text-align: right;\">\n      <th></th>\n      <th>ticker</th>\n      <th>date</th>\n      <th>open</th>\n      <th>high</th>\n      <th>low</th>\n      <th>close</th>\n      <th>volume</th>\n      <th>adj_close</th>\n      <th>adj_volume</th>\n    </tr>\n  </thead>\n  <tbody>\n    <tr>\n      <th>0</th>\n      <td>ABC</td>\n      <td>2017-09-05</td>\n      <td>163.09000000</td>\n      <td>164.24000000</td>\n      <td>160.21000000</td>\n      <td>162.63000000</td>\n      <td>29417590.00000000</td>\n      <td>162.49000000</td>\n      <td>29414672.00000000</td>\n    </tr>\n    <tr>\n      <th>1</th>\n      <td>ABC</td>\n      <td>2017-09-06</td>\n      <td>162.85000000</td>\n      <td>162.46000000</td>\n      <td>159.99000000</td>\n      <td>161.13000000</td>\n      <td>21131267.00000000</td>\n      <td>162.44000000</td>\n      <td>21169319.00000000</td>\n    </tr>\n    <tr>\n      <th>2</th>\n      <td>ABC</td>\n      <td>2017-09-07</td>\n      <td>162.11000000</td>\n      <td>162.70000000</td>\n      <td>160.65000000</td>\n      <td>161.26000000</td>\n      <td>21722502.00000000</td>\n      <td>161.46000000</td>\n      <td>21719856.00000000</td>\n    </tr>\n    <tr>\n      <th>3</th>\n      <td>ABC</td>\n      <td>2017-09-08</td>\n      <td>160.41000000</td>\n      <td>160.89000000</td>\n      <td>159.31000000</td>\n      <td>158.05000000</td>\n      <td>28311012.00000000</td>\n      <td>158.26000000</td>\n      <td>28305810.00000000</td>\n    </tr>\n    <tr>\n      <th>4</th>\n      <td>ABC</td>\n      <td>2017-09-11</td>\n      <td>161.09000000</td>\n      <td>162.14000000</td>\n      <td>159.54000000</td>\n      <td>161.29000000</td>\n      <td>31075573.00000000</td>\n      <td>160.97000000</td>\n      <td>31163734.00000000</td>\n    </tr>\n    <tr>\n      <th>5</th>\n      <td>ABC</td>\n      <td>2017-09-12</td>\n      <td>162.54000000</td>\n      <td>164.61000000</td>\n      <td>159.52000000</td>\n      <td>161.09000000</td>\n      <td>70921229.00000000</td>\n      <td>160.62000000</td>\n      <td>71097150.00000000</td>\n    </tr>\n    <tr>\n      <th>6</th>\n      <td>ABC</td>\n      <td>2017-09-13</td>\n      <td>160.01000000</td>\n      <td>160.51000000</td>\n      <td>158.22000000</td>\n      <td>159.29000000</td>\n      <td>44580353.00000000</td>\n      <td>159.07000000</td>\n      <td>44260255.00000000</td>\n    </tr>\n    <tr>\n      <th>7</th>\n      <td>EFG</td>\n      <td>2017-09-05</td>\n      <td>154.45000000</td>\n      <td>154.69000000</td>\n      <td>153.17000000</td>\n      <td>154.52000000</td>\n      <td>1270203.00000000</td>\n      <td>153.58000000</td>\n      <td>1270679.00000000</td>\n    </tr>\n    <tr>\n      <th>8</th>\n      <td>EFG</td>\n      <td>2017-09-06</td>\n      <td>155.03000000</td>\n      <td>155.14000000</td>\n      <td>153.89000000</td>\n      <td>154.45000000</td>\n      <td>1195987.00000000</td>\n      <td>154.06000000</td>\n      <td>1196107.00000000</td>\n    </tr>\n    <tr>\n      <th>9</th>\n      <td>EFG</td>\n      <td>2017-09-07</td>\n      <td>154.73000000</td>\n      <td>155.36000000</td>\n      <td>153.60000000</td>\n      <td>155.68000000</td>\n      <td>1420730.00000000</td>\n      <td>155.60000000</td>\n      <td>1409098.00000000</td>\n    </tr>\n    <tr>\n      <th>10</th>\n      <td>EFG</td>\n      <td>2017-09-08</td>\n      <td>156.01000000</td>\n      <td>155.91000000</td>\n      <td>154.17000000</td>\n      <td>155.86000000</td>\n      <td>1438929.00000000</td>\n      <td>156.08000000</td>\n      <td>1445338.00000000</td>\n    </tr>\n    <tr>\n      <th>11</th>\n      <td>EFG</td>\n      <td>2017-09-11</td>\n      <td>157.07000000</td>\n      <td>157.71000000</td>\n      <td>155.93000000</td>\n      <td>157.17000000</td>\n      <td>1608840.00000000</td>\n      <td>156.70000000</td>\n      <td>1610357.00000000</td>\n    </tr>\n    <tr>\n      <th>12</th>\n      <td>EFG</td>\n      <td>2017-09-12</td>\n      <td>155.98000000</td>\n      <td>156.72000000</td>\n      <td>154.28000000</td>\n      <td>156.71000000</td>\n      <td>1692197.00000000</td>\n      <td>156.86000000</td>\n      <td>1687819.00000000</td>\n    </tr>\n    <tr>\n      <th>13</th>\n      <td>EFG</td>\n      <td>2017-09-13</td>\n      <td>156.40000000</td>\n      <td>157.07000000</td>\n      <td>155.68000000</td>\n      <td>155.54000000</td>\n      <td>1211779.00000000</td>\n      <td>155.85000000</td>\n      <td>1210716.00000000</td>\n    </tr>\n    <tr>\n      <th>14</th>\n      <td>XYZ</td>\n      <td>2017-09-05</td>\n      <td>63.90000000</td>\n      <td>64.51000000</td>\n      <td>63.13000000</td>\n      <td>63.95000000</td>\n      <td>1738651.00000000</td>\n      <td>63.33000000</td>\n      <td>1733249.00000000</td>\n    </tr>\n    <tr>\n      <th>15</th>\n      <td>XYZ</td>\n      <td>2017-09-06</td>\n      <td>63.85000000</td>\n      <td>63.65000000</td>\n      <td>61.72000000</td>\n      <td>62.23000000</td>\n      <td>3730110.00000000</td>\n      <td>61.95000000</td>\n      <td>3725435.00000000</td>\n    </tr>\n    <tr>\n      <th>16</th>\n      <td>XYZ</td>\n      <td>2017-09-07</td>\n      <td>61.97000000</td>\n      <td>61.93000000</td>\n      <td>59.47000000</td>\n      <td>60.46000000</td>\n      <td>6166046.00000000</td>\n      <td>60.64000000</td>\n      <td>6191712.00000000</td>\n    </tr>\n    <tr>\n      <th>17</th>\n      <td>XYZ</td>\n      <td>2017-09-08</td>\n      <td>60.36000000</td>\n      <td>60.45000000</td>\n      <td>58.51000000</td>\n      <td>59.35000000</td>\n      <td>5173590.00000000</td>\n      <td>59.40000000</td>\n      <td>5174940.00000000</td>\n    </tr>\n    <tr>\n      <th>18</th>\n      <td>XYZ</td>\n      <td>2017-09-11</td>\n      <td>60.04000000</td>\n      <td>59.92000000</td>\n      <td>57.68000000</td>\n      <td>58.24000000</td>\n      <td>5003322.00000000</td>\n      <td>58.02000000</td>\n      <td>5001118.00000000</td>\n    </tr>\n    <tr>\n      <th>19</th>\n      <td>XYZ</td>\n      <td>2017-09-12</td>\n      <td>58.19000000</td>\n      <td>59.29000000</td>\n      <td>57.89000000</td>\n      <td>58.71000000</td>\n      <td>3633446.00000000</td>\n      <td>58.96000000</td>\n      <td>3635132.00000000</td>\n    </tr>\n    <tr>\n      <th>20</th>\n      <td>XYZ</td>\n      <td>2017-09-13</td>\n      <td>59.01000000</td>\n      <td>60.66000000</td>\n      <td>58.80000000</td>\n      <td>60.33000000</td>\n      <td>3571591.00000000</td>\n      <td>60.46000000</td>\n      <td>3583560.00000000</td>\n    </tr>\n  </tbody>\n</table>\n</div>", 
                        "text/plain": "   ticker        date         open         high          low        close  \\\n0     ABC  2017-09-05 163.09000000 164.24000000 160.21000000 162.63000000   \n1     ABC  2017-09-06 162.85000000 162.46000000 159.99000000 161.13000000   \n2     ABC  2017-09-07 162.11000000 162.70000000 160.65000000 161.26000000   \n3     ABC  2017-09-08 160.41000000 160.89000000 159.31000000 158.05000000   \n4     ABC  2017-09-11 161.09000000 162.14000000 159.54000000 161.29000000   \n5     ABC  2017-09-12 162.54000000 164.61000000 159.52000000 161.09000000   \n6     ABC  2017-09-13 160.01000000 160.51000000 158.22000000 159.29000000   \n7     EFG  2017-09-05 154.45000000 154.69000000 153.17000000 154.52000000   \n8     EFG  2017-09-06 155.03000000 155.14000000 153.89000000 154.45000000   \n9     EFG  2017-09-07 154.73000000 155.36000000 153.60000000 155.68000000   \n10    EFG  2017-09-08 156.01000000 155.91000000 154.17000000 155.86000000   \n11    EFG  2017-09-11 157.07000000 157.71000000 155.93000000 157.17000000   \n12    EFG  2017-09-12 155.98000000 156.72000000 154.28000000 156.71000000   \n13    EFG  2017-09-13 156.40000000 157.07000000 155.68000000 155.54000000   \n14    XYZ  2017-09-05  63.90000000  64.51000000  63.13000000  63.95000000   \n15    XYZ  2017-09-06  63.85000000  63.65000000  61.72000000  62.23000000   \n16    XYZ  2017-09-07  61.97000000  61.93000000  59.47000000  60.46000000   \n17    XYZ  2017-09-08  60.36000000  60.45000000  58.51000000  59.35000000   \n18    XYZ  2017-09-11  60.04000000  59.92000000  57.68000000  58.24000000   \n19    XYZ  2017-09-12  58.19000000  59.29000000  57.89000000  58.71000000   \n20    XYZ  2017-09-13  59.01000000  60.66000000  58.80000000  60.33000000   \n\n              volume    adj_close        adj_volume  \n0  29417590.00000000 162.49000000 29414672.00000000  \n1  21131267.00000000 162.44000000 21169319.00000000  \n2  21722502.00000000 161.46000000 21719856.00000000  \n3  28311012.00000000 158.26000000 28305810.00000000  \n4  31075573.00000000 160.97000000 31163734.00000000  \n5  70921229.00000000 160.62000000 71097150.00000000  \n6  44580353.00000000 159.07000000 44260255.00000000  \n7   1270203.00000000 153.58000000  1270679.00000000  \n8   1195987.00000000 154.06000000  1196107.00000000  \n9   1420730.00000000 155.60000000  1409098.00000000  \n10  1438929.00000000 156.08000000  1445338.00000000  \n11  1608840.00000000 156.70000000  1610357.00000000  \n12  1692197.00000000 156.86000000  1687819.00000000  \n13  1211779.00000000 155.85000000  1210716.00000000  \n14  1738651.00000000  63.33000000  1733249.00000000  \n15  3730110.00000000  61.95000000  3725435.00000000  \n16  6166046.00000000  60.64000000  6191712.00000000  \n17  5173590.00000000  59.40000000  5174940.00000000  \n18  5003322.00000000  58.02000000  5001118.00000000  \n19  3633446.00000000  58.96000000  3635132.00000000  \n20  3571591.00000000  60.46000000  3583560.00000000  "
                    }, 
                    "output_type": "execute_result"
                }
            ], 
            "source": "#price_df = pd.read_csv(body, names=['ticker', 'date', 'open', 'high', 'low',\n#                                             'close', 'volume', 'adj_close', 'adj_volume'])\nprice_df=df_data_1.copy()\n\nprice_df"
        }, 
        {
            "source": "## DataFrame Calculations\nNow that we have the data in a DataFrame, we can start to do calculations on it. Let's find out the median value for each stock using the [`DataFrame.median`](https://pandas.pydata.org/pandas-docs/version/0.21/generated/pandas.DataFrame.median.html) function.", 
            "cell_type": "markdown", 
            "metadata": {}
        }, 
        {
            "execution_count": 149, 
            "cell_type": "code", 
            "metadata": {}, 
            "outputs": [
                {
                    "execution_count": 149, 
                    "metadata": {}, 
                    "data": {
                        "text/plain": "open             155.98000000\nhigh             155.91000000\nlow              154.17000000\nclose            155.68000000\nvolume       3730110.00000000\nadj_close        155.85000000\nadj_volume   3725435.00000000\ndtype: float64"
                    }, 
                    "output_type": "execute_result"
                }
            ], 
            "source": "price_df.median()"
        }, 
        {
            "source": "That's not right. Those are the median values for the whole stock universe. We'll use the [`DataFrame.groupby`](https://pandas.pydata.org/pandas-docs/version/0.21/generated/pandas.DataFrame.groupby.html) function to get mean for each stock.", 
            "cell_type": "markdown", 
            "metadata": {}
        }, 
        {
            "execution_count": 150, 
            "cell_type": "code", 
            "metadata": {}, 
            "outputs": [
                {
                    "execution_count": 150, 
                    "metadata": {}, 
                    "data": {
                        "text/html": "<div>\n<style scoped>\n    .dataframe tbody tr th:only-of-type {\n        vertical-align: middle;\n    }\n\n    .dataframe tbody tr th {\n        vertical-align: top;\n    }\n\n    .dataframe thead th {\n        text-align: right;\n    }\n</style>\n<table border=\"1\" class=\"dataframe\">\n  <thead>\n    <tr style=\"text-align: right;\">\n      <th></th>\n      <th>open</th>\n      <th>high</th>\n      <th>low</th>\n      <th>close</th>\n      <th>volume</th>\n      <th>adj_close</th>\n      <th>adj_volume</th>\n    </tr>\n    <tr>\n      <th>ticker</th>\n      <th></th>\n      <th></th>\n      <th></th>\n      <th></th>\n      <th></th>\n      <th></th>\n      <th></th>\n    </tr>\n  </thead>\n  <tbody>\n    <tr>\n      <th>ABC</th>\n      <td>162.11000000</td>\n      <td>162.46000000</td>\n      <td>159.54000000</td>\n      <td>161.13000000</td>\n      <td>29417590.00000000</td>\n      <td>160.97000000</td>\n      <td>29414672.00000000</td>\n    </tr>\n    <tr>\n      <th>EFG</th>\n      <td>155.98000000</td>\n      <td>155.91000000</td>\n      <td>154.17000000</td>\n      <td>155.68000000</td>\n      <td>1420730.00000000</td>\n      <td>155.85000000</td>\n      <td>1409098.00000000</td>\n    </tr>\n    <tr>\n      <th>XYZ</th>\n      <td>60.36000000</td>\n      <td>60.66000000</td>\n      <td>58.80000000</td>\n      <td>60.33000000</td>\n      <td>3730110.00000000</td>\n      <td>60.46000000</td>\n      <td>3725435.00000000</td>\n    </tr>\n  </tbody>\n</table>\n</div>", 
                        "text/plain": "               open         high          low        close            volume  \\\nticker                                                                         \nABC    162.11000000 162.46000000 159.54000000 161.13000000 29417590.00000000   \nEFG    155.98000000 155.91000000 154.17000000 155.68000000  1420730.00000000   \nXYZ     60.36000000  60.66000000  58.80000000  60.33000000  3730110.00000000   \n\n          adj_close        adj_volume  \nticker                                 \nABC    160.97000000 29414672.00000000  \nEFG    155.85000000  1409098.00000000  \nXYZ     60.46000000  3725435.00000000  "
                    }, 
                    "output_type": "execute_result"
                }
            ], 
            "source": "price_df.groupby('ticker').median()"
        }, 
        {
            "source": "That's what we're looking for! However, we don't want to run the `groupby` function each time we make an operation. We could save the GroupBy object by doing `price_df_ticker_groups = price_df.groupby('ticker')`. This limits us to the operations of GroupBy objects. There's the [`GroupBy.apply`](https://pandas.pydata.org/pandas-docs/version/0.21/generated/pandas.core.groupby.GroupBy.apply.html), but then we lose out on performance. The true problem is the way the data is represented.", 
            "cell_type": "markdown", 
            "metadata": {}
        }, 
        {
            "execution_count": 151, 
            "cell_type": "code", 
            "metadata": {}, 
            "outputs": [
                {
                    "execution_count": 151, 
                    "metadata": {}, 
                    "data": {
                        "text/html": "<div>\n<style scoped>\n    .dataframe tbody tr th:only-of-type {\n        vertical-align: middle;\n    }\n\n    .dataframe tbody tr th {\n        vertical-align: top;\n    }\n\n    .dataframe thead th {\n        text-align: right;\n    }\n</style>\n<table border=\"1\" class=\"dataframe\">\n  <thead>\n    <tr style=\"text-align: right;\">\n      <th></th>\n      <th>ticker</th>\n      <th>date</th>\n      <th>open</th>\n      <th>high</th>\n      <th>low</th>\n      <th>close</th>\n      <th>volume</th>\n      <th>adj_close</th>\n      <th>adj_volume</th>\n    </tr>\n  </thead>\n  <tbody>\n    <tr>\n      <th>0</th>\n      <td>ABC</td>\n      <td>2017-09-05</td>\n      <td>163.09000000</td>\n      <td>164.24000000</td>\n      <td>160.21000000</td>\n      <td>162.63000000</td>\n      <td>29417590.00000000</td>\n      <td>162.49000000</td>\n      <td>29414672.00000000</td>\n    </tr>\n    <tr>\n      <th>1</th>\n      <td>ABC</td>\n      <td>2017-09-06</td>\n      <td>162.85000000</td>\n      <td>162.46000000</td>\n      <td>159.99000000</td>\n      <td>161.13000000</td>\n      <td>21131267.00000000</td>\n      <td>162.44000000</td>\n      <td>21169319.00000000</td>\n    </tr>\n    <tr>\n      <th>2</th>\n      <td>ABC</td>\n      <td>2017-09-07</td>\n      <td>162.11000000</td>\n      <td>162.70000000</td>\n      <td>160.65000000</td>\n      <td>161.26000000</td>\n      <td>21722502.00000000</td>\n      <td>161.46000000</td>\n      <td>21719856.00000000</td>\n    </tr>\n    <tr>\n      <th>3</th>\n      <td>ABC</td>\n      <td>2017-09-08</td>\n      <td>160.41000000</td>\n      <td>160.89000000</td>\n      <td>159.31000000</td>\n      <td>158.05000000</td>\n      <td>28311012.00000000</td>\n      <td>158.26000000</td>\n      <td>28305810.00000000</td>\n    </tr>\n    <tr>\n      <th>4</th>\n      <td>ABC</td>\n      <td>2017-09-11</td>\n      <td>161.09000000</td>\n      <td>162.14000000</td>\n      <td>159.54000000</td>\n      <td>161.29000000</td>\n      <td>31075573.00000000</td>\n      <td>160.97000000</td>\n      <td>31163734.00000000</td>\n    </tr>\n    <tr>\n      <th>5</th>\n      <td>ABC</td>\n      <td>2017-09-12</td>\n      <td>162.54000000</td>\n      <td>164.61000000</td>\n      <td>159.52000000</td>\n      <td>161.09000000</td>\n      <td>70921229.00000000</td>\n      <td>160.62000000</td>\n      <td>71097150.00000000</td>\n    </tr>\n    <tr>\n      <th>6</th>\n      <td>ABC</td>\n      <td>2017-09-13</td>\n      <td>160.01000000</td>\n      <td>160.51000000</td>\n      <td>158.22000000</td>\n      <td>159.29000000</td>\n      <td>44580353.00000000</td>\n      <td>159.07000000</td>\n      <td>44260255.00000000</td>\n    </tr>\n    <tr>\n      <th>7</th>\n      <td>EFG</td>\n      <td>2017-09-05</td>\n      <td>154.45000000</td>\n      <td>154.69000000</td>\n      <td>153.17000000</td>\n      <td>154.52000000</td>\n      <td>1270203.00000000</td>\n      <td>153.58000000</td>\n      <td>1270679.00000000</td>\n    </tr>\n    <tr>\n      <th>8</th>\n      <td>EFG</td>\n      <td>2017-09-06</td>\n      <td>155.03000000</td>\n      <td>155.14000000</td>\n      <td>153.89000000</td>\n      <td>154.45000000</td>\n      <td>1195987.00000000</td>\n      <td>154.06000000</td>\n      <td>1196107.00000000</td>\n    </tr>\n    <tr>\n      <th>9</th>\n      <td>EFG</td>\n      <td>2017-09-07</td>\n      <td>154.73000000</td>\n      <td>155.36000000</td>\n      <td>153.60000000</td>\n      <td>155.68000000</td>\n      <td>1420730.00000000</td>\n      <td>155.60000000</td>\n      <td>1409098.00000000</td>\n    </tr>\n    <tr>\n      <th>10</th>\n      <td>EFG</td>\n      <td>2017-09-08</td>\n      <td>156.01000000</td>\n      <td>155.91000000</td>\n      <td>154.17000000</td>\n      <td>155.86000000</td>\n      <td>1438929.00000000</td>\n      <td>156.08000000</td>\n      <td>1445338.00000000</td>\n    </tr>\n    <tr>\n      <th>11</th>\n      <td>EFG</td>\n      <td>2017-09-11</td>\n      <td>157.07000000</td>\n      <td>157.71000000</td>\n      <td>155.93000000</td>\n      <td>157.17000000</td>\n      <td>1608840.00000000</td>\n      <td>156.70000000</td>\n      <td>1610357.00000000</td>\n    </tr>\n    <tr>\n      <th>12</th>\n      <td>EFG</td>\n      <td>2017-09-12</td>\n      <td>155.98000000</td>\n      <td>156.72000000</td>\n      <td>154.28000000</td>\n      <td>156.71000000</td>\n      <td>1692197.00000000</td>\n      <td>156.86000000</td>\n      <td>1687819.00000000</td>\n    </tr>\n    <tr>\n      <th>13</th>\n      <td>EFG</td>\n      <td>2017-09-13</td>\n      <td>156.40000000</td>\n      <td>157.07000000</td>\n      <td>155.68000000</td>\n      <td>155.54000000</td>\n      <td>1211779.00000000</td>\n      <td>155.85000000</td>\n      <td>1210716.00000000</td>\n    </tr>\n    <tr>\n      <th>14</th>\n      <td>XYZ</td>\n      <td>2017-09-05</td>\n      <td>63.90000000</td>\n      <td>64.51000000</td>\n      <td>63.13000000</td>\n      <td>63.95000000</td>\n      <td>1738651.00000000</td>\n      <td>63.33000000</td>\n      <td>1733249.00000000</td>\n    </tr>\n    <tr>\n      <th>15</th>\n      <td>XYZ</td>\n      <td>2017-09-06</td>\n      <td>63.85000000</td>\n      <td>63.65000000</td>\n      <td>61.72000000</td>\n      <td>62.23000000</td>\n      <td>3730110.00000000</td>\n      <td>61.95000000</td>\n      <td>3725435.00000000</td>\n    </tr>\n  </tbody>\n</table>\n</div>", 
                        "text/plain": "   ticker        date         open         high          low        close  \\\n0     ABC  2017-09-05 163.09000000 164.24000000 160.21000000 162.63000000   \n1     ABC  2017-09-06 162.85000000 162.46000000 159.99000000 161.13000000   \n2     ABC  2017-09-07 162.11000000 162.70000000 160.65000000 161.26000000   \n3     ABC  2017-09-08 160.41000000 160.89000000 159.31000000 158.05000000   \n4     ABC  2017-09-11 161.09000000 162.14000000 159.54000000 161.29000000   \n5     ABC  2017-09-12 162.54000000 164.61000000 159.52000000 161.09000000   \n6     ABC  2017-09-13 160.01000000 160.51000000 158.22000000 159.29000000   \n7     EFG  2017-09-05 154.45000000 154.69000000 153.17000000 154.52000000   \n8     EFG  2017-09-06 155.03000000 155.14000000 153.89000000 154.45000000   \n9     EFG  2017-09-07 154.73000000 155.36000000 153.60000000 155.68000000   \n10    EFG  2017-09-08 156.01000000 155.91000000 154.17000000 155.86000000   \n11    EFG  2017-09-11 157.07000000 157.71000000 155.93000000 157.17000000   \n12    EFG  2017-09-12 155.98000000 156.72000000 154.28000000 156.71000000   \n13    EFG  2017-09-13 156.40000000 157.07000000 155.68000000 155.54000000   \n14    XYZ  2017-09-05  63.90000000  64.51000000  63.13000000  63.95000000   \n15    XYZ  2017-09-06  63.85000000  63.65000000  61.72000000  62.23000000   \n\n              volume    adj_close        adj_volume  \n0  29417590.00000000 162.49000000 29414672.00000000  \n1  21131267.00000000 162.44000000 21169319.00000000  \n2  21722502.00000000 161.46000000 21719856.00000000  \n3  28311012.00000000 158.26000000 28305810.00000000  \n4  31075573.00000000 160.97000000 31163734.00000000  \n5  70921229.00000000 160.62000000 71097150.00000000  \n6  44580353.00000000 159.07000000 44260255.00000000  \n7   1270203.00000000 153.58000000  1270679.00000000  \n8   1195987.00000000 154.06000000  1196107.00000000  \n9   1420730.00000000 155.60000000  1409098.00000000  \n10  1438929.00000000 156.08000000  1445338.00000000  \n11  1608840.00000000 156.70000000  1610357.00000000  \n12  1692197.00000000 156.86000000  1687819.00000000  \n13  1211779.00000000 155.85000000  1210716.00000000  \n14  1738651.00000000  63.33000000  1733249.00000000  \n15  3730110.00000000  61.95000000  3725435.00000000  "
                    }, 
                    "output_type": "execute_result"
                }
            ], 
            "source": "price_df.iloc[:16]"
        }, 
        {
            "source": "Can you spot our problem? Take a moment to see if you can find it.\n\nThe problem is between lines [6, 7] and  [13, 14]", 
            "cell_type": "markdown", 
            "metadata": {}
        }, 
        {
            "execution_count": 152, 
            "cell_type": "code", 
            "metadata": {}, 
            "outputs": [
                {
                    "execution_count": 152, 
                    "metadata": {}, 
                    "data": {
                        "text/html": "<div>\n<style scoped>\n    .dataframe tbody tr th:only-of-type {\n        vertical-align: middle;\n    }\n\n    .dataframe tbody tr th {\n        vertical-align: top;\n    }\n\n    .dataframe thead th {\n        text-align: right;\n    }\n</style>\n<table border=\"1\" class=\"dataframe\">\n  <thead>\n    <tr style=\"text-align: right;\">\n      <th></th>\n      <th>ticker</th>\n      <th>date</th>\n      <th>open</th>\n      <th>high</th>\n      <th>low</th>\n      <th>close</th>\n      <th>volume</th>\n      <th>adj_close</th>\n      <th>adj_volume</th>\n    </tr>\n  </thead>\n  <tbody>\n    <tr>\n      <th>6</th>\n      <td>ABC</td>\n      <td>2017-09-13</td>\n      <td>160.01000000</td>\n      <td>160.51000000</td>\n      <td>158.22000000</td>\n      <td>159.29000000</td>\n      <td>44580353.00000000</td>\n      <td>159.07000000</td>\n      <td>44260255.00000000</td>\n    </tr>\n    <tr>\n      <th>7</th>\n      <td>EFG</td>\n      <td>2017-09-05</td>\n      <td>154.45000000</td>\n      <td>154.69000000</td>\n      <td>153.17000000</td>\n      <td>154.52000000</td>\n      <td>1270203.00000000</td>\n      <td>153.58000000</td>\n      <td>1270679.00000000</td>\n    </tr>\n    <tr>\n      <th>13</th>\n      <td>EFG</td>\n      <td>2017-09-13</td>\n      <td>156.40000000</td>\n      <td>157.07000000</td>\n      <td>155.68000000</td>\n      <td>155.54000000</td>\n      <td>1211779.00000000</td>\n      <td>155.85000000</td>\n      <td>1210716.00000000</td>\n    </tr>\n    <tr>\n      <th>14</th>\n      <td>XYZ</td>\n      <td>2017-09-05</td>\n      <td>63.90000000</td>\n      <td>64.51000000</td>\n      <td>63.13000000</td>\n      <td>63.95000000</td>\n      <td>1738651.00000000</td>\n      <td>63.33000000</td>\n      <td>1733249.00000000</td>\n    </tr>\n  </tbody>\n</table>\n</div>", 
                        "text/plain": "   ticker        date         open         high          low        close  \\\n6     ABC  2017-09-13 160.01000000 160.51000000 158.22000000 159.29000000   \n7     EFG  2017-09-05 154.45000000 154.69000000 153.17000000 154.52000000   \n13    EFG  2017-09-13 156.40000000 157.07000000 155.68000000 155.54000000   \n14    XYZ  2017-09-05  63.90000000  64.51000000  63.13000000  63.95000000   \n\n              volume    adj_close        adj_volume  \n6  44580353.00000000 159.07000000 44260255.00000000  \n7   1270203.00000000 153.58000000  1270679.00000000  \n13  1211779.00000000 155.85000000  1210716.00000000  \n14  1738651.00000000  63.33000000  1733249.00000000  "
                    }, 
                    "output_type": "execute_result"
                }
            ], 
            "source": "price_df.iloc[[6, 7, 13, 14]]"
        }, 
        {
            "source": "Data for all the tickers are stacked. We're representing 3 dimensional data in 2 dimensions. This was solved using Panda's Panels, which is [deprecated](https://pandas.pydata.org/pandas-docs/version/0.21.0/dsintro.html#deprecate-panel). The Pandas documentation recommends we use either [MultiIndex](https://pandas.pydata.org/pandas-docs/version/0.21/advanced.html) or [xarray](http://xarray.pydata.org/en/stable/). [MultiIndex](https://pandas.pydata.org/pandas-docs/version/0.21/advanced.html) still doesn't solve our problem, since the data is still represented in 2 dimensions. [xarray](http://xarray.pydata.org/en/stable/) is able to store 3 dimensional data, but Finance uses Pandas, so we'll stick with this library. After you finish this program, I recommend you check out [xarray](http://xarray.pydata.org/en/stable/).\n\nSo, how do we use our 3-dimensional data with Pandas? We can split each 3rd dimension into it's own 2 dimension DataFrame. Let's take this array as an example:\n```\n[\n    [\n        [ 0,  1],\n        [ 2,  3],\n        [ 4,  5]\n    ],[\n        [ 6,  7],\n        [ 8,  9],\n        [10, 11]\n    ],[\n        [12, 13],\n        [14, 15],\n        [16, 17]\n    ],[\n        [18, 19],\n        [20, 21],\n        [22, 23]\n    ]\n]    \n```\nWe want to split it into these two 2d arrays:\n```\n[\n    [0, 2, 4],\n    [6, 8, 10],\n    [12, 14, 16],\n    [18, 20, 22]\n] \n[\n    [1, 3, 5],\n    [7, 8, 11],\n    [13, 15, 17],\n    [19, 21, 23]\n] \n```\nIn our case, our third dimensions are \"open\", \"high\", \"low\", \"close\", \"volume\", \"adj_close\", and  \"adj_volume\". We'll use the [`DataFrame.pivot`](https://pandas.pydata.org/pandas-docs/version/0.21/generated/pandas.DataFrame.pivot.html) function to generate these DataFrames.", 
            "cell_type": "markdown", 
            "metadata": {}
        }, 
        {
            "execution_count": 153, 
            "cell_type": "code", 
            "metadata": {}, 
            "outputs": [
                {
                    "execution_count": 153, 
                    "metadata": {}, 
                    "data": {
                        "text/html": "<div>\n<style scoped>\n    .dataframe tbody tr th:only-of-type {\n        vertical-align: middle;\n    }\n\n    .dataframe tbody tr th {\n        vertical-align: top;\n    }\n\n    .dataframe thead th {\n        text-align: right;\n    }\n</style>\n<table border=\"1\" class=\"dataframe\">\n  <thead>\n    <tr style=\"text-align: right;\">\n      <th>ticker</th>\n      <th>ABC</th>\n      <th>EFG</th>\n      <th>XYZ</th>\n    </tr>\n    <tr>\n      <th>date</th>\n      <th></th>\n      <th></th>\n      <th></th>\n    </tr>\n  </thead>\n  <tbody>\n    <tr>\n      <th>2017-09-05</th>\n      <td>163.09000000</td>\n      <td>154.45000000</td>\n      <td>63.90000000</td>\n    </tr>\n    <tr>\n      <th>2017-09-06</th>\n      <td>162.85000000</td>\n      <td>155.03000000</td>\n      <td>63.85000000</td>\n    </tr>\n    <tr>\n      <th>2017-09-07</th>\n      <td>162.11000000</td>\n      <td>154.73000000</td>\n      <td>61.97000000</td>\n    </tr>\n    <tr>\n      <th>2017-09-08</th>\n      <td>160.41000000</td>\n      <td>156.01000000</td>\n      <td>60.36000000</td>\n    </tr>\n    <tr>\n      <th>2017-09-11</th>\n      <td>161.09000000</td>\n      <td>157.07000000</td>\n      <td>60.04000000</td>\n    </tr>\n    <tr>\n      <th>2017-09-12</th>\n      <td>162.54000000</td>\n      <td>155.98000000</td>\n      <td>58.19000000</td>\n    </tr>\n    <tr>\n      <th>2017-09-13</th>\n      <td>160.01000000</td>\n      <td>156.40000000</td>\n      <td>59.01000000</td>\n    </tr>\n  </tbody>\n</table>\n</div>", 
                        "text/plain": "ticker              ABC          EFG         XYZ\ndate                                            \n2017-09-05 163.09000000 154.45000000 63.90000000\n2017-09-06 162.85000000 155.03000000 63.85000000\n2017-09-07 162.11000000 154.73000000 61.97000000\n2017-09-08 160.41000000 156.01000000 60.36000000\n2017-09-11 161.09000000 157.07000000 60.04000000\n2017-09-12 162.54000000 155.98000000 58.19000000\n2017-09-13 160.01000000 156.40000000 59.01000000"
                    }, 
                    "output_type": "execute_result"
                }
            ], 
            "source": "open_prices = price_df.pivot(index='date', columns='ticker', values='open')\nhigh_prices = price_df.pivot(index='date', columns='ticker', values='high')\nlow_prices = price_df.pivot(index='date', columns='ticker', values='low')\nclose_prices = price_df.pivot(index='date', columns='ticker', values='close')\nvolume = price_df.pivot(index='date', columns='ticker', values='volume')\nadj_close_prices = price_df.pivot(index='date', columns='ticker', values='adj_close')\nadj_volume = price_df.pivot(index='date', columns='ticker', values='adj_volume')\n#test_prices = price_df.pivot(index='date', columns='ticker')\nopen_prices\n#test_prices"
        }, 
        {
            "source": "That gives you DataFrames for all the open, high low, etc.. Now, what we have been waiting for.. The mean for each ticker.", 
            "cell_type": "markdown", 
            "metadata": {}
        }, 
        {
            "execution_count": 154, 
            "cell_type": "code", 
            "metadata": {}, 
            "outputs": [
                {
                    "execution_count": 154, 
                    "metadata": {}, 
                    "data": {
                        "text/plain": "ticker\nABC   161.72857143\nEFG   155.66714286\nXYZ    61.04571429\ndtype: float64"
                    }, 
                    "output_type": "execute_result"
                }
            ], 
            "source": "open_prices.mean()"
        }, 
        {
            "source": "We can also get the mean for each date by doing a transpose.", 
            "cell_type": "markdown", 
            "metadata": {}
        }, 
        {
            "execution_count": 155, 
            "cell_type": "code", 
            "metadata": {}, 
            "outputs": [
                {
                    "execution_count": 155, 
                    "metadata": {}, 
                    "data": {
                        "text/plain": "date\n2017-09-05   127.14666667\n2017-09-06   127.24333333\n2017-09-07   126.27000000\n2017-09-08   125.59333333\n2017-09-11   126.06666667\n2017-09-12   125.57000000\n2017-09-13   125.14000000\ndtype: float64"
                    }, 
                    "output_type": "execute_result"
                }
            ], 
            "source": "#open_prices.T.mean()\nopen_prices.mean(axis=1)"
        }, 
        {
            "source": "It doesn't matter whether date is the index and tickers are the colums or the other way around. It's always a transpose away. Since we're going to do a lot of operations across dates, we will stick with date as the index and tickers as the colums throughtout this program.\n## Quiz\nLet's see if you can apply what you learned. Implment the `csv_to_pivot` function to take in a filepath, `csv_filename`, and output the close 2d array. You can assume the CSV file used by `csv_to_close` has the same field names as \"prices.csv\" and in the same order.\n\nTo help with your implemention of quizzes, we provide you with unit tests to test your function implemention. For this quiz, we'll be using the function `test_csv_to_close` in the `quiz_tests` module to test `csv_to_close`.", 
            "cell_type": "markdown", 
            "metadata": {}
        }, 
        {
            "execution_count": 157, 
            "cell_type": "code", 
            "metadata": {
                "scrolled": true
            }, 
            "outputs": [], 
            "source": "import quiz_tests\n\n\ndef csv_to_close(csv_filepath, field_names):\n    \"\"\"Reads in data from a csv file and produces a DataFrame with close data.\n    \n    Parameters\n    ----------\n    csv_filepath : str\n        The name of the csv file to read\n    field_names : list of str\n        The field names of the field in the csv file\n\n    Returns\n    -------\n    close : DataFrame\n        Close prices for each ticker and date\n    \"\"\"\n    \n    # TODO: Implement Function\n    #price_df = pd.read_csv(csv_filepath,names=field_names)\n    price_df=df_data_2\n    #print(price_df.head())\n    close_prices = price_df.pivot(index='date', columns='ticker', values='close')\n\n    #print(price_df.head())\n    \n    return close_prices\n\n\nquiz_tests.test_csv_to_close(csv_to_close)\n"
        }, 
        {
            "source": "## Quiz Solution\nIf you're having trouble, you can check out the quiz solution [here](stock_data_solution.ipynb).", 
            "cell_type": "markdown", 
            "metadata": {}
        }
    ], 
    "metadata": {
        "kernelspec": {
            "display_name": "Python 3.5", 
            "name": "python3", 
            "language": "python"
        }, 
        "language_info": {
            "mimetype": "text/x-python", 
            "nbconvert_exporter": "python", 
            "version": "3.5.5", 
            "name": "python", 
            "file_extension": ".py", 
            "pygments_lexer": "ipython3", 
            "codemirror_mode": {
                "version": 3, 
                "name": "ipython"
            }
        }
    }, 
    "nbformat": 4
}